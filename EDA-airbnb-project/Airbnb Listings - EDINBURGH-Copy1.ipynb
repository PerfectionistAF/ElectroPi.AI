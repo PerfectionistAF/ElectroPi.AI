{
 "cells": [
  {
   "cell_type": "markdown",
   "id": "ead82d9e",
   "metadata": {},
   "source": [
<<<<<<< HEAD
    "# Exploratory Data Analysis: Airbnb Listings - New York"
=======
    "# Exploratory Data Analysis: Airbnb Listings - Edinburgh "
>>>>>>> 620ddf8352482bd4bd1e7ea84ef04cbb2c3b752e
   ]
  },
  {
   "cell_type": "markdown",
   "id": "648e1c3f",
   "metadata": {},
   "source": [
    "This project involves performing an exploratory data analysis (EDA) on Airbnb listings data for a particular city. The analysis will focus on factors such as price, availability, location, and property type to identify trends and patterns in the demand for Airbnb listings in the city. The project will include data cleaning, visualization, and statistical analysis using tools such as Python and Jupyter Notebook."
   ]
  },
  {
   "cell_type": "markdown",
   "id": "eedb1e75",
   "metadata": {},
   "source": [
    "## Importing libraries, loading dataset and simple exploration"
   ]
  },
  {
   "cell_type": "code",
<<<<<<< HEAD
   "execution_count": 2,
=======
   "execution_count": 56,
>>>>>>> 620ddf8352482bd4bd1e7ea84ef04cbb2c3b752e
   "id": "1af4d53d",
   "metadata": {},
   "outputs": [],
   "source": [
<<<<<<< HEAD
    "#importing necessery libraries for future analysis of the dataset\n",
=======
>>>>>>> 620ddf8352482bd4bd1e7ea84ef04cbb2c3b752e
    "import numpy as np\n",
    "import pandas as pd\n",
    "import matplotlib.pyplot as plt\n",
    "import matplotlib.image as mpimg\n",
<<<<<<< HEAD
    "%matplotlib inline\n",
=======
>>>>>>> 620ddf8352482bd4bd1e7ea84ef04cbb2c3b752e
    "import seaborn as sns\n",
    "import plotly.express as px\n",
    "import os as os\n",
    "import sys as sys\n",
    "plt.style.use('ggplot')\n",
    "pd.set_option('display.max_columns', 200)\n",
    "#import ydata_profiling as pp\n",
    "#from ydata_profiling import ProfileReport   ##create a profile report for listings.csv"
   ]
  },
  {
   "cell_type": "code",
<<<<<<< HEAD
   "execution_count": 3,
=======
   "execution_count": 57,
>>>>>>> 620ddf8352482bd4bd1e7ea84ef04cbb2c3b752e
   "id": "305e574e",
   "metadata": {},
   "outputs": [
    {
     "data": {
      "text/html": [
       "<div>\n",
       "<style scoped>\n",
       "    .dataframe tbody tr th:only-of-type {\n",
       "        vertical-align: middle;\n",
       "    }\n",
       "\n",
       "    .dataframe tbody tr th {\n",
       "        vertical-align: top;\n",
       "    }\n",
       "\n",
       "    .dataframe thead th {\n",
       "        text-align: right;\n",
       "    }\n",
       "</style>\n",
       "<table border=\"1\" class=\"dataframe\">\n",
       "  <thead>\n",
       "    <tr style=\"text-align: right;\">\n",
       "      <th></th>\n",
       "      <th>id</th>\n",
       "      <th>name</th>\n",
       "      <th>host_id</th>\n",
       "      <th>host_name</th>\n",
       "      <th>neighbourhood_group</th>\n",
       "      <th>neighbourhood</th>\n",
       "      <th>latitude</th>\n",
       "      <th>longitude</th>\n",
       "      <th>room_type</th>\n",
       "      <th>price</th>\n",
       "      <th>minimum_nights</th>\n",
       "      <th>number_of_reviews</th>\n",
       "      <th>last_review</th>\n",
       "      <th>reviews_per_month</th>\n",
       "      <th>calculated_host_listings_count</th>\n",
       "      <th>availability_365</th>\n",
       "      <th>number_of_reviews_ltm</th>\n",
       "      <th>license</th>\n",
       "    </tr>\n",
       "  </thead>\n",
       "  <tbody>\n",
       "    <tr>\n",
       "      <th>0</th>\n",
<<<<<<< HEAD
       "      <td>2595</td>\n",
       "      <td>Rental unit in New York · ★4.68 · Studio · 1 b...</td>\n",
       "      <td>2845</td>\n",
       "      <td>Jennifer</td>\n",
       "      <td>Manhattan</td>\n",
       "      <td>Midtown</td>\n",
       "      <td>40.75356</td>\n",
       "      <td>-73.98559</td>\n",
       "      <td>Entire home/apt</td>\n",
       "      <td>240</td>\n",
       "      <td>30</td>\n",
       "      <td>49</td>\n",
       "      <td>2022-06-21</td>\n",
       "      <td>0.29</td>\n",
       "      <td>3</td>\n",
       "      <td>365</td>\n",
       "      <td>0</td>\n",
=======
       "      <td>15420</td>\n",
       "      <td>Rental unit in Edinburgh · ★4.98 · 1 bedroom ·...</td>\n",
       "      <td>60423</td>\n",
       "      <td>Charlotte</td>\n",
       "      <td>NaN</td>\n",
       "      <td>Old Town, Princes Street and Leith Street</td>\n",
       "      <td>55.957590</td>\n",
       "      <td>-3.188050</td>\n",
       "      <td>Entire home/apt</td>\n",
       "      <td>126</td>\n",
       "      <td>3</td>\n",
       "      <td>492</td>\n",
       "      <td>2023-06-11</td>\n",
       "      <td>3.26</td>\n",
       "      <td>1</td>\n",
       "      <td>39</td>\n",
       "      <td>81</td>\n",
>>>>>>> 620ddf8352482bd4bd1e7ea84ef04cbb2c3b752e
       "      <td>NaN</td>\n",
       "    </tr>\n",
       "    <tr>\n",
       "      <th>1</th>\n",
<<<<<<< HEAD
       "      <td>5121</td>\n",
       "      <td>Rental unit in Brooklyn · ★4.52 · 1 bedroom · ...</td>\n",
       "      <td>7356</td>\n",
       "      <td>Garon</td>\n",
       "      <td>Brooklyn</td>\n",
       "      <td>Bedford-Stuyvesant</td>\n",
       "      <td>40.68535</td>\n",
       "      <td>-73.95512</td>\n",
       "      <td>Private room</td>\n",
       "      <td>66</td>\n",
       "      <td>30</td>\n",
       "      <td>50</td>\n",
       "      <td>2019-12-02</td>\n",
       "      <td>0.29</td>\n",
       "      <td>2</td>\n",
       "      <td>177</td>\n",
       "      <td>0</td>\n",
=======
       "      <td>24288</td>\n",
       "      <td>Loft in Edinburgh · ★4.62 · 2 bedrooms · 2 bed...</td>\n",
       "      <td>46498</td>\n",
       "      <td>Gordon</td>\n",
       "      <td>NaN</td>\n",
       "      <td>Canongate, Southside and Dumbiedykes</td>\n",
       "      <td>55.944983</td>\n",
       "      <td>-3.185293</td>\n",
       "      <td>Entire home/apt</td>\n",
       "      <td>95</td>\n",
       "      <td>3</td>\n",
       "      <td>274</td>\n",
       "      <td>2023-05-29</td>\n",
       "      <td>1.77</td>\n",
       "      <td>1</td>\n",
       "      <td>46</td>\n",
       "      <td>46</td>\n",
>>>>>>> 620ddf8352482bd4bd1e7ea84ef04cbb2c3b752e
       "      <td>NaN</td>\n",
       "    </tr>\n",
       "  </tbody>\n",
       "</table>\n",
       "</div>"
      ],
      "text/plain": [
<<<<<<< HEAD
       "     id                                               name  host_id host_name  \\\n",
       "0  2595  Rental unit in New York · ★4.68 · Studio · 1 b...     2845  Jennifer   \n",
       "1  5121  Rental unit in Brooklyn · ★4.52 · 1 bedroom · ...     7356     Garon   \n",
       "\n",
       "  neighbourhood_group       neighbourhood  latitude  longitude  \\\n",
       "0           Manhattan             Midtown  40.75356  -73.98559   \n",
       "1            Brooklyn  Bedford-Stuyvesant  40.68535  -73.95512   \n",
       "\n",
       "         room_type  price  minimum_nights  number_of_reviews last_review  \\\n",
       "0  Entire home/apt    240              30                 49  2022-06-21   \n",
       "1     Private room     66              30                 50  2019-12-02   \n",
       "\n",
       "   reviews_per_month  calculated_host_listings_count  availability_365  \\\n",
       "0               0.29                               3               365   \n",
       "1               0.29                               2               177   \n",
       "\n",
       "   number_of_reviews_ltm  license  \n",
       "0                      0      NaN  \n",
       "1                      0      NaN  "
      ]
     },
     "execution_count": 3,
=======
       "      id                                               name  host_id  \\\n",
       "0  15420  Rental unit in Edinburgh · ★4.98 · 1 bedroom ·...    60423   \n",
       "1  24288  Loft in Edinburgh · ★4.62 · 2 bedrooms · 2 bed...    46498   \n",
       "\n",
       "   host_name  neighbourhood_group                              neighbourhood  \\\n",
       "0  Charlotte                  NaN  Old Town, Princes Street and Leith Street   \n",
       "1     Gordon                  NaN       Canongate, Southside and Dumbiedykes   \n",
       "\n",
       "    latitude  longitude        room_type  price  minimum_nights  \\\n",
       "0  55.957590  -3.188050  Entire home/apt    126               3   \n",
       "1  55.944983  -3.185293  Entire home/apt     95               3   \n",
       "\n",
       "   number_of_reviews last_review  reviews_per_month  \\\n",
       "0                492  2023-06-11               3.26   \n",
       "1                274  2023-05-29               1.77   \n",
       "\n",
       "   calculated_host_listings_count  availability_365  number_of_reviews_ltm  \\\n",
       "0                               1                39                     81   \n",
       "1                               1                46                     46   \n",
       "\n",
       "  license  \n",
       "0     NaN  \n",
       "1     NaN  "
      ]
     },
     "execution_count": 57,
>>>>>>> 620ddf8352482bd4bd1e7ea84ef04cbb2c3b752e
     "metadata": {},
     "output_type": "execute_result"
    }
   ],
   "source": [
    "df = pd.read_csv('listings_summary.csv')\n",
    "df.head(2)"
   ]
  },
  {
   "cell_type": "code",
<<<<<<< HEAD
   "execution_count": 4,
=======
   "execution_count": 58,
>>>>>>> 620ddf8352482bd4bd1e7ea84ef04cbb2c3b752e
   "id": "972b273b",
   "metadata": {},
   "outputs": [
    {
     "data": {
      "text/plain": [
<<<<<<< HEAD
       "(39453, 18)"
      ]
     },
     "execution_count": 4,
=======
       "(7698, 18)"
      ]
     },
     "execution_count": 58,
>>>>>>> 620ddf8352482bd4bd1e7ea84ef04cbb2c3b752e
     "metadata": {},
     "output_type": "execute_result"
    }
   ],
   "source": [
    "df.shape"
   ]
  },
  {
   "cell_type": "code",
<<<<<<< HEAD
   "execution_count": 5,
   "id": "928638f4",
   "metadata": {
    "scrolled": false
=======
   "execution_count": 59,
   "id": "928638f4",
   "metadata": {
    "scrolled": true
>>>>>>> 620ddf8352482bd4bd1e7ea84ef04cbb2c3b752e
   },
   "outputs": [
    {
     "data": {
      "text/plain": [
       "id                                  int64\n",
       "name                               object\n",
       "host_id                             int64\n",
       "host_name                          object\n",
<<<<<<< HEAD
       "neighbourhood_group                object\n",
=======
       "neighbourhood_group               float64\n",
>>>>>>> 620ddf8352482bd4bd1e7ea84ef04cbb2c3b752e
       "neighbourhood                      object\n",
       "latitude                          float64\n",
       "longitude                         float64\n",
       "room_type                          object\n",
       "price                               int64\n",
       "minimum_nights                      int64\n",
       "number_of_reviews                   int64\n",
       "last_review                        object\n",
       "reviews_per_month                 float64\n",
       "calculated_host_listings_count      int64\n",
       "availability_365                    int64\n",
       "number_of_reviews_ltm               int64\n",
<<<<<<< HEAD
       "license                           float64\n",
       "dtype: object"
      ]
     },
     "execution_count": 5,
=======
       "license                            object\n",
       "dtype: object"
      ]
     },
     "execution_count": 59,
>>>>>>> 620ddf8352482bd4bd1e7ea84ef04cbb2c3b752e
     "metadata": {},
     "output_type": "execute_result"
    }
   ],
   "source": [
    "df.dtypes"
   ]
  },
  {
   "cell_type": "code",
<<<<<<< HEAD
   "execution_count": 11,
=======
   "execution_count": 159,
>>>>>>> 620ddf8352482bd4bd1e7ea84ef04cbb2c3b752e
   "id": "65597a3b",
   "metadata": {},
   "outputs": [],
   "source": [
    "#df['neighbourhood'].unique()"
   ]
  },
  {
   "cell_type": "code",
<<<<<<< HEAD
   "execution_count": 12,
=======
   "execution_count": 160,
>>>>>>> 620ddf8352482bd4bd1e7ea84ef04cbb2c3b752e
   "id": "80f22a4d",
   "metadata": {},
   "outputs": [],
   "source": [
    "#df['room_type'].unique()"
   ]
  },
  {
   "cell_type": "markdown",
   "id": "0808503d",
   "metadata": {},
   "source": [
    "## Data Cleaning"
   ]
  },
  {
   "cell_type": "code",
<<<<<<< HEAD
   "execution_count": 6,
=======
   "execution_count": 63,
>>>>>>> 620ddf8352482bd4bd1e7ea84ef04cbb2c3b752e
   "id": "88635552",
   "metadata": {},
   "outputs": [
    {
     "data": {
      "text/plain": [
<<<<<<< HEAD
       "id                                    0\n",
       "name                                  0\n",
       "host_id                               0\n",
       "host_name                             5\n",
       "neighbourhood_group                   0\n",
       "neighbourhood                         0\n",
       "latitude                              0\n",
       "longitude                             0\n",
       "room_type                             0\n",
       "price                                 0\n",
       "minimum_nights                        0\n",
       "number_of_reviews                     0\n",
       "last_review                       10241\n",
       "reviews_per_month                 10241\n",
       "calculated_host_listings_count        0\n",
       "availability_365                      0\n",
       "number_of_reviews_ltm                 0\n",
       "license                           39453\n",
       "dtype: int64"
      ]
     },
     "execution_count": 6,
=======
       "id                                   0\n",
       "name                                 0\n",
       "host_id                              0\n",
       "host_name                            2\n",
       "neighbourhood_group               7698\n",
       "neighbourhood                        0\n",
       "latitude                             0\n",
       "longitude                            0\n",
       "room_type                            0\n",
       "price                                0\n",
       "minimum_nights                       0\n",
       "number_of_reviews                    0\n",
       "last_review                        829\n",
       "reviews_per_month                  829\n",
       "calculated_host_listings_count       0\n",
       "availability_365                     0\n",
       "number_of_reviews_ltm                0\n",
       "license                           7672\n",
       "dtype: int64"
      ]
     },
     "execution_count": 63,
>>>>>>> 620ddf8352482bd4bd1e7ea84ef04cbb2c3b752e
     "metadata": {},
     "output_type": "execute_result"
    }
   ],
   "source": [
    "df.isnull().sum()"
   ]
  },
  {
   "cell_type": "code",
<<<<<<< HEAD
   "execution_count": 14,
=======
   "execution_count": 64,
>>>>>>> 620ddf8352482bd4bd1e7ea84ef04cbb2c3b752e
   "id": "4059158c",
   "metadata": {},
   "outputs": [
    {
     "data": {
      "text/html": [
       "<div>\n",
       "<style scoped>\n",
       "    .dataframe tbody tr th:only-of-type {\n",
       "        vertical-align: middle;\n",
       "    }\n",
       "\n",
       "    .dataframe tbody tr th {\n",
       "        vertical-align: top;\n",
       "    }\n",
       "\n",
       "    .dataframe thead th {\n",
       "        text-align: right;\n",
       "    }\n",
       "</style>\n",
       "<table border=\"1\" class=\"dataframe\">\n",
       "  <thead>\n",
       "    <tr style=\"text-align: right;\">\n",
       "      <th></th>\n",
       "      <th>name</th>\n",
       "      <th>host_id</th>\n",
       "      <th>neighbourhood</th>\n",
       "      <th>latitude</th>\n",
       "      <th>longitude</th>\n",
       "      <th>room_type</th>\n",
       "      <th>price</th>\n",
       "      <th>minimum_nights</th>\n",
       "      <th>number_of_reviews</th>\n",
       "      <th>reviews_per_month</th>\n",
       "      <th>calculated_host_listings_count</th>\n",
       "      <th>availability_365</th>\n",
       "      <th>number_of_reviews_ltm</th>\n",
       "    </tr>\n",
       "  </thead>\n",
       "  <tbody>\n",
       "    <tr>\n",
<<<<<<< HEAD
       "      <th>470</th>\n",
       "      <td>Home in Currie · ★4.84 · 1 bedroom · 1 bed · 1...</td>\n",
       "      <td>7779635</td>\n",
       "      <td>Currie West</td>\n",
       "      <td>55.89952</td>\n",
       "      <td>-3.34324</td>\n",
       "      <td>Private room</td>\n",
       "      <td>59</td>\n",
       "      <td>1</td>\n",
       "      <td>252</td>\n",
       "      <td>2.49</td>\n",
       "      <td>1</td>\n",
       "      <td>322</td>\n",
       "      <td>46</td>\n",
=======
       "      <th>1783</th>\n",
       "      <td>Home in Edinburgh · ★4.75 · 3 bedrooms · 3 bed...</td>\n",
       "      <td>20923270</td>\n",
       "      <td>The Grange</td>\n",
       "      <td>55.93565</td>\n",
       "      <td>-3.17784</td>\n",
       "      <td>Entire home/apt</td>\n",
       "      <td>491</td>\n",
       "      <td>1</td>\n",
       "      <td>20</td>\n",
       "      <td>0.34</td>\n",
       "      <td>14</td>\n",
       "      <td>47</td>\n",
       "      <td>6</td>\n",
>>>>>>> 620ddf8352482bd4bd1e7ea84ef04cbb2c3b752e
       "    </tr>\n",
       "  </tbody>\n",
       "</table>\n",
       "</div>"
      ],
      "text/plain": [
<<<<<<< HEAD
       "                                                  name  host_id neighbourhood  \\\n",
       "470  Home in Currie · ★4.84 · 1 bedroom · 1 bed · 1...  7779635   Currie West   \n",
       "\n",
       "     latitude  longitude     room_type  price  minimum_nights  \\\n",
       "470  55.89952   -3.34324  Private room     59               1   \n",
       "\n",
       "     number_of_reviews  reviews_per_month  calculated_host_listings_count  \\\n",
       "470                252               2.49                               1   \n",
       "\n",
       "     availability_365  number_of_reviews_ltm  \n",
       "470               322                     46  "
      ]
     },
     "execution_count": 14,
=======
       "                                                   name   host_id  \\\n",
       "1783  Home in Edinburgh · ★4.75 · 3 bedrooms · 3 bed...  20923270   \n",
       "\n",
       "     neighbourhood  latitude  longitude        room_type  price  \\\n",
       "1783    The Grange  55.93565   -3.17784  Entire home/apt    491   \n",
       "\n",
       "      minimum_nights  number_of_reviews  reviews_per_month  \\\n",
       "1783               1                 20               0.34   \n",
       "\n",
       "      calculated_host_listings_count  availability_365  number_of_reviews_ltm  \n",
       "1783                              14                47                      6  "
      ]
     },
     "execution_count": 64,
>>>>>>> 620ddf8352482bd4bd1e7ea84ef04cbb2c3b752e
     "metadata": {},
     "output_type": "execute_result"
    }
   ],
   "source": [
    "df.drop(['id','host_name','last_review', 'license', 'neighbourhood_group'],axis=1,inplace=True)\n",
    "df.sample()"
   ]
  },
  {
   "cell_type": "code",
<<<<<<< HEAD
   "execution_count": 15,
=======
   "execution_count": 65,
>>>>>>> 620ddf8352482bd4bd1e7ea84ef04cbb2c3b752e
   "id": "9b0bc913",
   "metadata": {},
   "outputs": [],
   "source": [
    "df['reviews_per_month'].fillna(0,inplace=True)"
   ]
  },
  {
   "cell_type": "code",
<<<<<<< HEAD
   "execution_count": 16,
=======
   "execution_count": 69,
>>>>>>> 620ddf8352482bd4bd1e7ea84ef04cbb2c3b752e
   "id": "79e17275",
   "metadata": {
    "scrolled": true
   },
   "outputs": [
    {
     "data": {
      "text/html": [
       "<div>\n",
       "<style scoped>\n",
       "    .dataframe tbody tr th:only-of-type {\n",
       "        vertical-align: middle;\n",
       "    }\n",
       "\n",
       "    .dataframe tbody tr th {\n",
       "        vertical-align: top;\n",
       "    }\n",
       "\n",
       "    .dataframe thead th {\n",
       "        text-align: right;\n",
       "    }\n",
       "</style>\n",
       "<table border=\"1\" class=\"dataframe\">\n",
       "  <thead>\n",
       "    <tr style=\"text-align: right;\">\n",
       "      <th></th>\n",
       "      <th>name</th>\n",
       "      <th>host_id</th>\n",
       "      <th>neighbourhood</th>\n",
       "      <th>latitude</th>\n",
       "      <th>longitude</th>\n",
       "      <th>room_type</th>\n",
       "      <th>price</th>\n",
       "      <th>minimum_nights</th>\n",
       "      <th>number_of_reviews</th>\n",
       "      <th>reviews_per_month</th>\n",
       "      <th>calculated_host_listings_count</th>\n",
       "      <th>availability_365</th>\n",
       "      <th>number_of_reviews_ltm</th>\n",
       "    </tr>\n",
       "  </thead>\n",
       "  <tbody>\n",
       "    <tr>\n",
<<<<<<< HEAD
       "      <th>2736</th>\n",
       "      <td>Rental unit in Edinburgh · ★4.70 · 1 bedroom ·...</td>\n",
       "      <td>215670985</td>\n",
       "      <td>Meadowbank and Abbeyhill North</td>\n",
       "      <td>55.95795</td>\n",
       "      <td>-3.16977</td>\n",
       "      <td>Entire home/apt</td>\n",
       "      <td>92</td>\n",
       "      <td>3</td>\n",
       "      <td>79</td>\n",
       "      <td>1.41</td>\n",
       "      <td>5</td>\n",
       "      <td>14</td>\n",
       "      <td>35</td>\n",
=======
       "      <th>7211</th>\n",
       "      <td>Rental unit in Edinburgh · ★5.0 · 1 bedroom · ...</td>\n",
       "      <td>191891016</td>\n",
       "      <td>Dalry and Fountainbridge</td>\n",
       "      <td>55.941495</td>\n",
       "      <td>-3.213148</td>\n",
       "      <td>Entire home/apt</td>\n",
       "      <td>99</td>\n",
       "      <td>2</td>\n",
       "      <td>5</td>\n",
       "      <td>3.19</td>\n",
       "      <td>11</td>\n",
       "      <td>38</td>\n",
       "      <td>5</td>\n",
>>>>>>> 620ddf8352482bd4bd1e7ea84ef04cbb2c3b752e
       "    </tr>\n",
       "  </tbody>\n",
       "</table>\n",
       "</div>"
      ],
      "text/plain": [
       "                                                   name    host_id  \\\n",
<<<<<<< HEAD
       "2736  Rental unit in Edinburgh · ★4.70 · 1 bedroom ·...  215670985   \n",
       "\n",
       "                       neighbourhood  latitude  longitude        room_type  \\\n",
       "2736  Meadowbank and Abbeyhill North  55.95795   -3.16977  Entire home/apt   \n",
       "\n",
       "      price  minimum_nights  number_of_reviews  reviews_per_month  \\\n",
       "2736     92               3                 79               1.41   \n",
       "\n",
       "      calculated_host_listings_count  availability_365  number_of_reviews_ltm  \n",
       "2736                               5                14                     35  "
      ]
     },
     "execution_count": 16,
=======
       "7211  Rental unit in Edinburgh · ★5.0 · 1 bedroom · ...  191891016   \n",
       "\n",
       "                 neighbourhood   latitude  longitude        room_type  price  \\\n",
       "7211  Dalry and Fountainbridge  55.941495  -3.213148  Entire home/apt     99   \n",
       "\n",
       "      minimum_nights  number_of_reviews  reviews_per_month  \\\n",
       "7211               2                  5               3.19   \n",
       "\n",
       "      calculated_host_listings_count  availability_365  number_of_reviews_ltm  \n",
       "7211                              11                38                      5  "
      ]
     },
     "execution_count": 69,
>>>>>>> 620ddf8352482bd4bd1e7ea84ef04cbb2c3b752e
     "metadata": {},
     "output_type": "execute_result"
    }
   ],
   "source": [
    "df.sample()"
   ]
  },
  {
   "cell_type": "markdown",
   "id": "5a44b775",
   "metadata": {},
   "source": [
    "## TRENDS"
   ]
  },
  {
<<<<<<< HEAD
   "cell_type": "code",
   "execution_count": 196,
   "id": "d0e99214",
   "metadata": {},
   "outputs": [],
   "source": [
    "def most_frequent_bar(df, column):\n",
    "    most_frequent = df[column].value_counts().head(10)\n",
    "    sns.set(rc={'figure.figsize':(6,6)})\n",
    "    bar = most_frequent.plot(kind='bar')\n",
    "    return most_frequent\n",
    "    \n",
    "def highest_lowest(df, column):\n",
    "    sorteddf = df.sort_values(by= column, ascending=False)\n",
    "    top = sorteddf[column].unique()\n",
    "    highest = []\n",
    "    for i in range(10):\n",
    "        highest.append(top[i])  ##highest 10 unique\n",
    "    \n",
    "    sorteddf2 = df.sort_values(by= column, ascending=True)\n",
    "    bottom = sorteddf2[column].unique()\n",
    "    lowest = []\n",
    "    for i in range(10):\n",
    "        lowest.append(bottom[i])  ##lowest 10 unique\n",
    "    \n",
    "    x_max=[]\n",
    "    x_min=[]\n",
    "    y_max=[]\n",
    "    y_min=[]\n",
    "    for i in range(10):\n",
    "        x_min.append(lowest[i])\n",
    "        y_min.append(sorteddf[sorteddf[column] == lowest[i]].count().values[0])\n",
    "        x_max.append(highest[i])\n",
    "        y_max.append(sorteddf[sorteddf[column] == highest[i]].count().values[0])\n",
    "        \n",
    "        \n",
    "    return x_max, y_max, x_min, y_min    "
   ]
  },
  {
=======
>>>>>>> 620ddf8352482bd4bd1e7ea84ef04cbb2c3b752e
   "cell_type": "markdown",
   "id": "aeb645ba",
   "metadata": {},
   "source": [
    "### What are the most frequent prices?"
   ]
  },
  {
   "cell_type": "code",
<<<<<<< HEAD
   "execution_count": 197,
   "id": "151fe3fc",
   "metadata": {},
   "outputs": [
    {
     "data": {
      "image/png": "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",
      "text/plain": [
       "<Figure size 600x600 with 1 Axes>"
      ]
     },
     "metadata": {},
     "output_type": "display_data"
    }
   ],
   "source": [
    "most_frequent = most_frequent_bar(df, 'price')"
=======
   "execution_count": 168,
   "id": "0bd13f3a",
   "metadata": {},
   "outputs": [
    {
     "name": "stdout",
     "output_type": "stream",
     "text": [
      "Most frequent:\n"
     ]
    },
    {
     "data": {
      "text/plain": [
       "price\n",
       "100    192\n",
       "150    165\n",
       "120    128\n",
       "50     123\n",
       "200    116\n",
       "60     115\n",
       "75     106\n",
       "80     106\n",
       "70      96\n",
       "250     94\n",
       "Name: count, dtype: int64"
      ]
     },
     "execution_count": 168,
     "metadata": {},
     "output_type": "execute_result"
    }
   ],
   "source": [
    "df['price'].value_counts().head(10)\n",
    "most_frequent = df['price'].value_counts().head(10)\n",
    "print('Most frequent:')\n",
    "most_frequent"
>>>>>>> 620ddf8352482bd4bd1e7ea84ef04cbb2c3b752e
   ]
  },
  {
   "cell_type": "markdown",
   "id": "dd29e983",
   "metadata": {},
   "source": [
    "### Are the most frequent prices closer to the cheapest or most expensive rooms?"
   ]
  },
  {
   "cell_type": "code",
<<<<<<< HEAD
   "execution_count": 201,
   "id": "31696d45",
   "metadata": {},
   "outputs": [],
   "source": [
    "#sns.set(rc={'figure.figsize':(6,6)})\n",
    "#price_bar = most_frequent.plot(kind='bar')\n",
    "#price_max_x, price_min_x = highest_lowest(df, 'price')"
=======
   "execution_count": 163,
   "id": "49d9b55b",
   "metadata": {},
   "outputs": [
    {
     "name": "stdout",
     "output_type": "stream",
     "text": [
      "Most expensive:\n",
      "\n",
      "[20551, 19591, 10000, 9391, 8597, 7161, 6200, 6000, 5000, 4884]\n",
      "\n",
      "\n",
      "Least expensive:\n",
      "\n",
      "[0, 9, 10, 11, 12, 14, 15, 17, 18, 19]\n"
     ]
    }
   ],
   "source": [
    "#most expensive\n",
    "sorteddf = df.sort_values(by='price', ascending=False)\n",
    "top = sorteddf['price'].unique()\n",
    "most_expensive = []\n",
    "for i in range(10):\n",
    "    most_expensive.append(top[i])  ##highest 10 unique prices\n",
    "print('Most expensive:\\n')\n",
    "print(most_expensive)\n",
    "print('\\n')\n",
    "#least expensive\n",
    "sorteddf2 = df.sort_values(by='price', ascending=True)\n",
    "bottom = sorteddf2['price'].unique()\n",
    "least_expensive = []\n",
    "for i in range(10):\n",
    "    least_expensive.append(bottom[i])  ##lowest 10 unique prices\n",
    "    \n",
    "print('Least expensive:\\n')\n",
    "print(least_expensive)"
   ]
  },
  {
   "cell_type": "code",
   "execution_count": 191,
   "id": "31696d45",
   "metadata": {},
   "outputs": [
    {
     "data": {
      "image/png": "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",
      "text/plain": [
       "<Figure size 800x800 with 1 Axes>"
      ]
     },
     "metadata": {},
     "output_type": "display_data"
    }
   ],
   "source": [
    "sns.set(rc={'figure.figsize':(8,8)})\n",
    "price_bar = most_frequent.plot(kind='bar')"
>>>>>>> 620ddf8352482bd4bd1e7ea84ef04cbb2c3b752e
   ]
  },
  {
   "cell_type": "code",
   "execution_count": 202,
<<<<<<< HEAD
   "id": "6f0cea6a",
   "metadata": {},
   "outputs": [],
   "source": [
    "#sns.barplot(data=df, x=most_frequent.index, y=most_frequent.values)"
=======
   "id": "fcc6c9dc",
   "metadata": {},
   "outputs": [],
   "source": [
    "price_x = []\n",
    "price_y = []\n",
    "for i in range(10):\n",
    "    #print('price:',most_expensive[i],' number:', sorteddf[sorteddf['price'] == most_expensive[i]].count().values[0])\n",
    "    price_x.append(least_expensive[i])\n",
    "    price_y.append(sorteddf[sorteddf['price'] == least_expensive[i]].count().values[0])"
>>>>>>> 620ddf8352482bd4bd1e7ea84ef04cbb2c3b752e
   ]
  },
  {
   "cell_type": "code",
<<<<<<< HEAD
   "execution_count": 203,
   "id": "82eb6385",
=======
   "execution_count": 206,
   "id": "f36b3626",
>>>>>>> 620ddf8352482bd4bd1e7ea84ef04cbb2c3b752e
   "metadata": {},
   "outputs": [
    {
     "data": {
<<<<<<< HEAD
      "text/plain": [
       "<Axes: xlabel='price'>"
      ]
     },
     "execution_count": 203,
     "metadata": {},
     "output_type": "execute_result"
    },
    {
     "data": {
      "image/png": "iVBORw0KGgoAAAANSUhEUgAAAkcAAAJHCAYAAACaQ/L3AAAAOXRFWHRTb2Z0d2FyZQBNYXRwbG90bGliIHZlcnNpb24zLjcuMSwgaHR0cHM6Ly9tYXRwbG90bGliLm9yZy/bCgiHAAAACXBIWXMAAA9hAAAPYQGoP6dpAAA30ElEQVR4nO3dfXhU9Z3//9eciSGJJJDwTQgFjSmY0IhEVqJxV4ymRdoFu6XUWjUUBRXUYqMUqoBFrsqNgiAIGIqI+alUxFJkbbUFXKG6LEJWV1QSjAsBA0kod0O4ScjM/P5gM36mQG4mk8zM8fm4rrku5nPOyXm/OcnklXM+Z8bh9Xq9AgAAgCTJCnUBAAAA4YRwBAAAYCAcAQAAGAhHAAAABsIRAACAgXAEAABgIBwBAAAYCEcAAAAGwhEAAIAhqjUrHz16VPPmzdN7772n2tpaZWZmasKECRo4cKAkaefOnZoxY4Y+/fRTde3aVSNHjtSYMWN823s8Hi1atEirV6+Wy+XS1VdfrWnTpiktLa1NTXi9Xnk8vNE3AAC4MMtyyOFwNLueozUfHzJ69GgdOnRIjz/+uJKSkrRy5UqtXr1aa9asUVJSkn7wgx/oe9/7nu6++259/PHHmj59uqZNm6YRI0ZIkhYtWqSVK1dq1qxZ6t69u+bMmaN9+/bprbfeUnR0dMDNut0eHT58IuDtAQCA/SUlXSyns/mLZi0ORxUVFbr55pv1+9//Xv/0T/8k6ewZmyFDhmjo0KGKiYnRq6++qnfffVdRUWdPSM2bN09//etf9c4776i+vl65ubmaOHGibr/9dkmSy+XSoEGDNHPmTA0dOjTQXglHAACgWS0NRy2ec5SYmKjf/e536tevn2/M4XDI6/Xq2LFj2r59u3JycnzBSJJyc3O1e/duHTp0SKWlpTpx4oRyc3N9yxMSEpSVlaVt27a1tAwAAIB21eI5RwkJCcrLy/Mbe/vtt7V3715df/31mj9/vjIyMvyWp6SkSJL279+vqqoqSVKPHj3OWefAgQMBFW+KimJuOQAAaLtWTcg2lZSUaPLkyfrud7+r/Px8zZo165x5Q506dZIk1dXV6dSpU5J03nWOHTsWaBmSzk6wSky8uE1fAwAAQAowHG3YsEG/+tWvlJ2drXnz5kmSYmJiVF9f77deXV2dJCkuLk4xMTGSpPr6et+/G9eJjY0NqPhGHo9XLtfJNn0NAABgbwkJsS2ac9TqcPTKK69oxowZGjx4sObOnes7E5Samqqamhq/dRufd+/eXQ0NDb6xSy+91G+dvn37traMczQ0eNr8NQAAAFo1UWflypX67W9/qzvvvFPPPvus3yWynJwclZSUyO12+8a2bNmi9PR0devWTX379lXnzp21detW33KXy6XPP//c9z5JAAAAodbicLR7927NnDlTgwcP1tixY3Xo0CEdPHhQBw8e1PHjxzVixAjV1tZqypQpKi8v15o1a1RcXKyxY8dKOjvXqKCgQHPnztXGjRtVWlqqhx9+WKmpqRo8eHC7NQgAANAaLX6fo6KiIs2fP/+8y4YPH67Zs2frk08+0YwZM/T5558rOTlZo0ePVkFBgW89t9utefPmac2aNTp9+rRycnL0m9/8Rr169WpTE7zPEQAAaE7Q3wQynBGOAABAc4L+JpAAAADfBIQjAAAAA+EIAADAQDgCAAAwEI4AAAAMhCMAAAAD4QgAAMBAOAIAADAQjgAAAAyEIwAAAAPhCAAAwEA4AgAAMESFugAA6EiW5ZBlOUJdRrM8Hq88noj/XHAgIhGOAHxjWJZDiV1jZTmdoS6lWR63W0eOniIgASFAOALwjWFZDllOp/68arkO1xwIdTkXlJTSQ/962xhZloNwBIQA4QjAN87hmgOq2b8v1GUACFNMyAYAADAQjgAAAAyEIwAAAAPhCAAAwEA4AgAAMBCOAAAADIQjAAAAA+EIAADAQDgCAAAwEI4AAAAMhCMAAAAD4QgAAMBAOAIAADAQjgAAAAyEIwAAAAPhCAAAwEA4AgAAMBCOAAAADIQjAAAAA+EIAADAQDgCAAAwEI4AAAAMhCMAAAAD4QgAAMBAOAIAADAQjgAAAAyEIwAAAAPhCAAAwEA4AgAAMBCOAAAADIQjAAAAA+EIAADAQDgCAAAwEI4AAAAMhCMAAAAD4QgAAMAQ1ZaNlyxZoi1btujll1+WJI0cOVIffvjhedd96qmn9KMf/UiVlZXKz88/Z/mTTz6pW2+9tS3lAAAAtFnA4eill17SwoULlZOT4xt77rnndObMGb/1pk6dqr179+p73/ueJKmsrEydOnXShg0b5HA4fOvFx8cHWgoAAEDQtDocVVdXa8qUKSopKVF6errfsq5du/o9f+utt/T+++9rzZo16ty5syRp165dSk9PV0pKSuBVAwAAtJNWh6PPPvtMXbp00bp167R48WJVVlaed72TJ0/q6aef1qhRo5SZmekbLysrU58+fQKv+AKiopg+BaBpTmdkvU5EWr2AXbQ6HOXn5593ztA/eu2113TixAndf//9fuO7du1ScnKy7rjjDu3Zs0dpaWl64IEHNGjQoNaW4mNZDiUmXhzw9gAQjhISYkNdAvCN1KYJ2Rfidrv18ssv64477vCbS1RfX689e/YoNjZWkyZNUlxcnNatW6d7771XK1as0HXXXRfQ/jwer1yuk8EqH4BNOZ1WRAUOl+uU3G5PqMsAbCMhIbZFZ2TbJRx9+OGH2r9/v37605/6jUdHR2vbtm2KiopSdHS0JKlfv3768ssvtXz58oDDkSQ1NPACAsBe3G4Pr21ACLTLBe0NGzaof//+uuSSS85ZFhcX5wtGjTIyMlRdXd0epQAAALRKu4SjkpIS5ebmnjNeWlqqAQMGaPv27X7jn376abtM0gYAAGitoIcjt9ut8vJyZWRknLMsIyNDl19+uaZPn67t27fryy+/1KxZs/Txxx9r3LhxwS4FAACg1YI+5+jo0aM6c+bMOe95JEmWZamoqEhz585VYWGhXC6XsrKytGLFCr/b/QEAAEKlTeFo9uzZ54x169ZNZWVlF9wmKSlJM2fObMtuAQAA2g3vMAYAAGAgHAEAABgIRwAAAAbCEQAAgIFwBAAAYCAcAQAAGAhHAAAABsIRAACAgXAEAABgIBwBAAAYCEcAAAAGwhEAAICBcAQAAGAgHAEAABgIRwAAAAbCEQAAgIFwBAAAYIgKdQEAAJgsyyHLcoS6jGZ5PF55PN5Ql4F2QDgCAIQNy3IoMTFOlhX+FzY8Ho+OHDlJQLIhwhEAIGycPWtk6U9/+pMOHz4c6nIuKCkpSUOHDpVlOQhHNkQ4AgCEncOHD6umpibUZeAbKvzPWwIAAHQgwhEAAICBcAQAAGAgHAEAABgIRwAAAAbCEQAAgIFwBAAAYCAcAQAAGAhHAAAABsIRAACAgXAEAABgIBwBAAAYCEcAAAAGwhEAAICBcAQAAGAgHAEAABgIRwAAAAbCEQAAgIFwBAAAYCAcAQAAGAhHAAAABsIRAACAgXAEAABgIBwBAAAYCEcAAAAGwhEAAICBcAQAAGAgHAEAABgIRwAAAAbCEQAAgIFwBAAAYGhTOFqyZIlGjhzpN/bYY48pMzPT73HDDTf4lns8Hi1cuFCDBg1Sdna2Ro8erYqKiraUAQAAEDQBh6OXXnpJCxcuPGe8rKxM48aN0/vvv+97rF271rd8yZIleu211/Tkk09q1apVcjgcuvfee1VfXx9oKQAAAEHT6nBUXV2te+65RwsWLFB6errfMrfbrfLycl155ZVKTk72PZKSkiRJ9fX1evHFFzV+/Hjl5eWpb9++mj9/vqqrq7V+/frgdAQAANAGUa3d4LPPPlOXLl20bt06LV68WJWVlb5le/bsUV1dnXr37n3ebUtLS3XixAnl5ub6xhISEpSVlaVt27Zp6NChAbRwVlQU06cANM3pjKzXiUirNxgiredIqxct0+pwlJ+fr/z8/PMu27VrlxwOh4qLi7V582ZZlqW8vDwVFhYqPj5eVVVVkqQePXr4bZeSkqIDBw4EUP5ZluVQYuLFAW8PAOEoISE21CWgGRwje2p1OGrKF198Icuy1LNnTxUVFamiokJPPfWUdu3apeLiYp06dUqSFB0d7bddp06ddOzYsYD36/F45XKdbFPtAOzP6bQi6peZy3VKbrcn1GV0KI4R2lNCQmyLzvYFNRyNHz9ed911lxISEiRJGRkZSk5O1m233aYdO3YoJiZG0tm5R43/lqS6ujrFxrbth6GhgW9OAPbidnt4bQtzHCN7CurFUofD4QtGjTIyMiRJVVVVvstpNTU1fuvU1NQoNTU1mKUAAAAEJKjhaMKECRozZozf2I4dOyRJffr0Ud++fdW5c2dt3brVt9zlcunzzz/XwIEDg1kKAABAQIIajoYNG6YPPvhAzz//vPbu3atNmzZp8uTJGjZsmHr37q3o6GgVFBRo7ty52rhxo0pLS/Xwww8rNTVVgwcPDmYpAAAAAQnqnKObbrpJCxYsUFFRkYqKihQfH69bbrlFhYWFvnUeeughNTQ0aOrUqTp9+rRycnK0fPnycyZpAwAAhEKbwtHs2bPPGRsyZIiGDBlywW2cTqcmTpyoiRMntmXXAAAA7YJ3rwIAADAQjgAAAAyEIwAAAAPhCAAAwEA4AgAAMBCOAAAADIQjAAAAA+EIAADAQDgCAAAwEI4AAAAMhCMAAAAD4QgAAMBAOAIAADAQjgAAAAyEIwAAAAPhCAAAwEA4AgAAMBCOAAAADIQjAAAAA+EIAADAQDgCAAAwEI4AAAAMhCMAAAAD4QgAAMBAOAIAADAQjgAAAAyEIwAAAAPhCAAAwEA4AgAAMBCOAAAADIQjAAAAA+EIAADAQDgCAAAwEI4AAAAMhCMAAAAD4QgAAMBAOAIAADAQjgAAAAyEIwAAAAPhCAAAwEA4AgAAMBCOAAAADIQjAAAAA+EIAADAQDgCAAAwEI4AAAAMhCMAAABDVKgLAAAEzrIcsixHqMtolsfjlcfjDXUZQIsQjgAgQlmWQ4mJcbKs8L8I4PF4dOTISQISIgLhCAAi1NmzRpYq1n+uuiMnQ13OBXVKjFPa4CxZloNwhIhAOAKACFd35KRO/b021GUAthH+52IBAAA6UJvC0ZIlSzRy5Ei/sXfffVcjRozQgAEDlJ+fr6eeekqnT5/2La+srFRmZuY5j9WrV7elFAAAgKAI+LLaSy+9pIULFyonJ8c3tn37dv3iF79QYWGhhgwZooqKCv3mN7/R0aNHNWvWLElSWVmZOnXqpA0bNsjh+PoOi/j4+Da0AQAAEBytPnNUXV2te+65RwsWLFB6errfstdee025ubm67777lJaWphtuuEEPP/yw1q1bp/r6eknSrl27lJ6erpSUFCUnJ/seMTExwekIAACgDVp95uizzz5Tly5dtG7dOi1evFiVlZW+ZaNHjz7vLaUNDQ2qra1VUlKSysrK1KdPn7ZVfR5RUUyfAtA0pzOyXieaq9du/bR0nXASafWiZVodjvLz85Wfn3/eZVlZWX7P6+vrtWLFCl1xxRVKSkqSdPbMUXJysu644w7t2bNHaWlpeuCBBzRo0KAAyj/r7Ht9XBzw9gAQjhISYkNdQlDZrR/Jnj2hHW/lb2ho0KRJk1ReXq5XX31V0tmwtGfPHsXGxmrSpEmKi4vTunXrdO+992rFihW67rrrAtqXx+OVyxW+7/EBIDw4nVZE/TJzuU7J7fZccLnd+pHs2RPCR0JCbIvO9rVLOKqtrVVhYaG2bt2qhQsXKjs7W5IUHR2tbdu2KSoqStHR0ZKkfv366csvv9Ty5csDDkeS1NDANycAe3G7PbZ6bbNbP5I9e0I7vM9RTU2N7rzzTn300UdatmzZOZfg4uLifMGoUUZGhqqrq4NdCgAAQKsF9czRsWPHNGrUKNXW1mrlypXKzMz0W15aWqrbb79dy5Yt08CBA33jn376adAnafNhjAAAIBBBDUezZs3Svn379MILLygpKUkHDx70LUtKSlJGRoYuv/xyTZ8+XdOmTVNiYqJef/11ffzxx3rjjTeCVodlOdS1a1xE3EXgdnt09CgfxggAQLgIWjjyeDz685//rDNnzmjUqFHnLN+4caN69eqloqIizZ07V4WFhXK5XMrKytKKFSvOOcvUFpblkNNpafHvP1BlzbGgfd1g65nSRQ/e/i98GCMAAGGkTeFo9uzZvn9blqVPPvmk2W2SkpI0c+bMtuy2xSprjmlP5ZEO2RcAALCH8L/uBAAA0IEIRwAAAAbCEQAAgIFwBAAAYCAcAQAAGAhHAAAABsIRAACAgXAEAABgIBwBAAAYCEcAAAAGwhEAAICBcAQAAGAgHAEAABgIRwAAAIaoUBcAAICdWZZDluUIdRnN8ni88ni8oS4jLBCOAABoJ5blUGJinCwr/C/UeDweHTlykoAkwhEAAO3m7FkjS6Uf/UEnj/891OVcUFz8/1PfASNkWQ7CkQhHESNSTstKnJoFgH908vjfVes6EOoy0EKEowhw9rRsrCzLGepSWsTjcevIkVMEJABARCIcRYCzZ42c2v3WMp06FN5/ecR266H0YfdyahYAELEIRxHk1KEDOlW9N9RlAABga+E/fR4AAKADEY4AAAAMhCMAAAAD4QgAAMBAOAIAADAQjgAAAAyEIwAAAAPhCAAAwEA4AgAAMBCOAAAADIQjAAAAA+EIAADAQDgCAAAwEI4AAAAMhCMAAAAD4QgAAMBAOAIAADAQjgAAAAyEIwAAAENUqAsA7MSyHLIsR6jLaJbH45XH4212Pbv1AwAtQTgCgsSyHErsGivL6Qx1Kc3yuN06cvRUk4HCshzq2jVOTmf4n2B2uz06evQkAQlAUBCOgCCxLIcsp1MfP79UtfsPhLqcC+r8rR666v6xsixHs+HI6bT05utb9feDxzuwwtb5f8nx+refXttsPwDQUoQjIMhq9x+Qq6Ii1GUEzd8PHlf1/qOhLgMAOkz4ny8HAADoQIQjAAAAA+EIAADAQDgCAAAwEI4AAAAMhCMAAAAD4QgAAMDQpnC0ZMkSjRw50m9s586dKigo0FVXXaUbb7xRy5cv91vu8Xi0cOFCDRo0SNnZ2Ro9erQqbPSeMAAAILIFHI5eeuklLVy40G/syJEjuvvuu3XZZZfpD3/4g8aPH68FCxboD3/4g2+dJUuW6LXXXtOTTz6pVatWyeFw6N5771V9fX3gXQAAAARJq98hu7q6WlOmTFFJSYnS09P9lr3++uuKjo7WE088oaioKPXu3VsVFRVatmyZRowYofr6er344ouaOHGi8vLyJEnz58/XoEGDtH79eg0dOjQ4XQEAAASo1WeOPvvsM3Xp0kXr1q1Tdna237Lt27crJydHUVFfZ67c3Fzt3r1bhw4dUmlpqU6cOKHc3Fzf8oSEBGVlZWnbtm1taAMAACA4Wn3mKD8/X/n5+eddVlVVpYyMDL+xlJQUSdL+/ftVVVUlSerRo8c56xw40LYP6oyK+jrnRcKniJuaqzfS+pEis+a2irSe7fZ915J67daT3fpp6Trh5Jt4jL4JgvrBs6dPn1Z0dLTfWKdOnSRJdXV1OnXqlCSdd51jx44FvF/Lcigx8eKAtw+1hITYUJcQdHbsyW7sdozs1o9kv57s1o9kv57s1k+gghqOYmJizplYXVdXJ0mKi4tTTEyMJKm+vt7378Z1YmMDPyAej1cu10nfc6fTiqgD7HKdktvtueDySOtHar4nO4q042S377uWfM/ZrSe79SPZrye79RPpEhJiW3R2LKjhKDU1VTU1NX5jjc+7d++uhoYG39ill17qt07fvn3btO+Ghsg9mG63J6LrPx879mQ3djtGdutHsl9PdutHsl9PdusnUEG9uJiTk6OSkhK53W7f2JYtW5Senq5u3bqpb9++6ty5s7Zu3epb7nK59Pnnn2vgwIHBLAUAACAgQQ1HI0aMUG1traZMmaLy8nKtWbNGxcXFGjt2rKSzc40KCgo0d+5cbdy4UaWlpXr44YeVmpqqwYMHB7MUAACAgAT1slq3bt30wgsvaMaMGRo+fLiSk5M1adIkDR8+3LfOQw89pIaGBk2dOlWnT59WTk6Oli9ffs4kbQAAgFBoUziaPXv2OWP9+/fXqlWrLriN0+nUxIkTNXHixLbsGgAAoF3whgYAAAAGwhEAAIAhqHOOgNawLIcsyxHqMprl8Xjl8XhDXQYAoIMQjhASluVQ18RYOS1nqEtpltvj1tEjpwhIAPANQThCSFiWQ07LqaWb/j/tP1Yd6nIu6Ftdumts3s9lWQ7CEQB8QxCOEFL7j1Wr4tBXoS4DAAAfJmQDAAAYOHMEAABaxe431BCOAABAi529oSZOTiv8Lz65PR4dPXKy1QGJcAQAAFrs7A01ll7ZtlPVx0+GupwL6h4fp4Kc7wR0Qw3hCAAAtFr18ZOqPFYb6jLaRfifEwMAAOhAhCMAAAAD4QgAAMBAOAIAADAQjgAAAAyEIwAAAAPhCAAAwEA4AgAAMBCOAAAADIQjAAAAA+EIAADAQDgCAAAwEI4AAAAMhCMAAAAD4QgAAMBAOAIAADAQjgAAAAyEIwAAAAPhCAAAwEA4AgAAMBCOAAAADIQjAAAAA+EIAADAQDgCAAAwEI4AAAAMhCMAAAAD4QgAAMBAOAIAADAQjgAAAAyEIwAAAAPhCAAAwEA4AgAAMBCOAAAADIQjAAAAA+EIAADAQDgCAAAwEI4AAAAMhCMAAAAD4QgAAMBAOAIAADAQjgAAAAxRwfxiW7du1c9//vPzLuvVq5c2btyoxx57TGvWrPFb1r17d23evDmYpQAAAAQkqOFowIABev/99/3Gdu3apfvuu0/jxo2TJJWVlWncuHEqKCjwreN0OoNZBgAAQMCCGo6io6OVnJzse37mzBnNmjVLN998s2699Va53W6Vl5frgQce8FsPAAAgXAQ1HP2jV199VQcOHNCLL74oSdqzZ4/q6urUu3fv9twtAABAwNotHNXV1amoqEijRo1SSkqKpLOX2BwOh4qLi7V582ZZlqW8vDwVFhYqPj6+TfuLivp6brnTGVnzzJurN9L6kezXU0vqtVtPduunpeuEE45R+OMYhb9A6m23cPTmm2+qrq5OI0eO9I198cUXsixLPXv2VFFRkSoqKvTUU09p165dKi4ulmUF9h9uWQ4lJl4crNI7XEJCbKhLCDq79WS3fiT79WS3fiT79WS3fiT79WS3fqTAemq3cLR27VrdfPPNSkxM9I2NHz9ed911lxISEiRJGRkZSk5O1m233aYdO3YoOzs7oH15PF65XCd9z51OK6IOsMt1Sm6354LLI60fyX49NdePZL+e7NaPZL+e7NaPZL+e7NaPFNk9JSTEtuhMUruEo8OHD+ujjz7S2LFj/cYdDocvGDXKyMiQJFVVVQUcjiSpoaHpgxnO3G5PRNd/PnbryW79SPbryW79SPbryW79SPbryW79SIH11C4XDv/7v/9bDodD11xzjd/4hAkTNGbMGL+xHTt2SJL69OnTHqUAAAC0SruEo9LSUl1yySWKjfU/7TZs2DB98MEHev7557V3715t2rRJkydP1rBhw7iDDQAAhIV2uaz297//XV27dj1n/KabbtKCBQtUVFSkoqIixcfH65ZbblFhYWF7lAEAANBq7RKOnnjiiQsuGzJkiIYMGdIeuwUAAGizyHqzAgAAgHZGOAIAADAQjgAAAAyEIwAAAAPhCAAAwEA4AgAAMBCOAAAADIQjAAAAA+EIAADAQDgCAAAwEI4AAAAMhCMAAAAD4QgAAMBAOAIAADAQjgAAAAyEIwAAAAPhCAAAwEA4AgAAMBCOAAAADIQjAAAAA+EIAADAQDgCAAAwEI4AAAAMhCMAAAAD4QgAAMBAOAIAADAQjgAAAAyEIwAAAAPhCAAAwEA4AgAAMBCOAAAADIQjAAAAA+EIAADAQDgCAAAwEI4AAAAMhCMAAAAD4QgAAMBAOAIAADAQjgAAAAyEIwAAAAPhCAAAwEA4AgAAMBCOAAAADIQjAAAAA+EIAADAQDgCAAAwEI4AAAAMhCMAAAAD4QgAAMBAOAIAADAQjgAAAAyEIwAAAEPQw1FlZaUyMzPPeaxevVqStHPnThUUFOiqq67SjTfeqOXLlwe7BAAAgIBFBfsLlpWVqVOnTtqwYYMcDodvPD4+XkeOHNHdd9+t733ve5o+fbo+/vhjTZ8+XV27dtWIESOCXQoAAECrBT0c7dq1S+np6UpJSTlnWXFxsaKjo/XEE08oKipKvXv3VkVFhZYtW0Y4AgAAYSHol9XKysrUp0+f8y7bvn27cnJyFBX1dSbLzc3V7t27dejQoWCXAgAA0GrtcuYoOTlZd9xxh/bs2aO0tDQ98MADGjRokKqqqpSRkeG3fuMZpv3796tbt24B7zcq6uuc53RG1jzz5uqNtH4k+/XUknrt1pPd+mnpOuGEYxT+OEbhL5B6gxqO6uvrtWfPHsXGxmrSpEmKi4vTunXrdO+992rFihU6ffq0oqOj/bbp1KmTJKmuri7g/VqWQ4mJF7ep9lBKSIgNdQlBZ7ee7NaPZL+e7NaPZL+e7NaPZL+e7NaPFFhPQQ1H0dHR2rZtm6KionwhqF+/fvryyy+1fPlyxcTEqL6+3m+bxlAUFxcX8H49Hq9crpO+506nFVEH2OU6Jbfbc8HlkdaPZL+emutHsl9PdutHsl9PdutHsl9PdutHiuyeEhJiW3QmKeiX1c4XcjIyMvT+++8rNTVVNTU1fssan3fv3r1N+21oaPpghjO32xPR9Z+P3XqyWz+S/XqyWz+S/XqyWz+S/XqyWz9SYD0F9cJhaWmpBgwYoO3bt/uNf/rpp+rTp49ycnJUUlIit9vtW7Zlyxalp6e3ab4RAABAsAQ1HGVkZOjyyy/X9OnTtX37dn355ZeaNWuWPv74Y40bN04jRoxQbW2tpkyZovLycq1Zs0bFxcUaO3ZsMMsAAAAIWFAvq1mWpaKiIs2dO1eFhYVyuVzKysrSihUrlJmZKUl64YUXNGPGDA0fPlzJycmaNGmShg8fHswyAAAAAhb0OUdJSUmaOXPmBZf3799fq1atCvZuAQAAgiKy3qwAAACgnRGOAAAADIQjAAAAA+EIAADAQDgCAAAwEI4AAAAMhCMAAAAD4QgAAMBAOAIAADAQjgAAAAyEIwAAAAPhCAAAwEA4AgAAMBCOAAAADIQjAAAAA+EIAADAQDgCAAAwEI4AAAAMhCMAAAAD4QgAAMBAOAIAADAQjgAAAAyEIwAAAAPhCAAAwEA4AgAAMBCOAAAADIQjAAAAA+EIAADAQDgCAAAwEI4AAAAMhCMAAAAD4QgAAMBAOAIAADAQjgAAAAyEIwAAAAPhCAAAwEA4AgAAMBCOAAAADIQjAAAAA+EIAADAQDgCAAAwEI4AAAAMhCMAAAAD4QgAAMBAOAIAADAQjgAAAAyEIwAAAAPhCAAAwEA4AgAAMBCOAAAADIQjAAAAA+EIAADAEBXsL3j06FHNmzdP7733nmpra5WZmakJEyZo4MCBkqTHHntMa9as8dume/fu2rx5c7BLAQAAaLWgh6NHHnlEhw4d0rx585SUlKSVK1dqzJgxWrNmjXr37q2ysjKNGzdOBQUFvm2cTmewywAAAAhIUC+rVVRU6IMPPtC0adM0cOBAffvb39aUKVPUvXt3vfXWW3K73SovL9eVV16p5ORk3yMpKSmYZQAAAAQsqGeOEhMT9bvf/U79+vXzjTkcDnm9Xh07dkx79uxRXV2devfuHczdSpKior7OeU5nZE2laq7eSOtHsl9PLanXbj3ZrZ+WrhNOOEbhj2MU/gKpN6jhKCEhQXl5eX5jb7/9tvbu3avrr79eu3btksPhUHFxsTZv3izLspSXl6fCwkLFx8cHvF/Lcigx8eK2lh8yCQmxoS4h6OzWk936kezXk936kezXk936kezXk936kQLrKehzjkwlJSWaPHmyvvvd7yo/P18LFy6UZVnq2bOnioqKVFFRoaeeekq7du1ScXGxLCuwNOrxeOVynfQ9dzqtiDrALtcpud2eCy6PtH4k+/XUXD+S/XqyWz+S/XqyWz+S/XqyWz9SZPeUkBDbojNJ7RaONmzYoF/96lfKzs7WvHnzJEnjx4/XXXfdpYSEBElSRkaGkpOTddttt2nHjh3Kzs4OeH8NDU0fzHDmdnsiuv7zsVtPdutHsl9PdutHsl9PdutHsl9PdutHCqyndrlw+Morr2j8+PG64YYbtGzZMsXExEg6O/+oMRg1ysjIkCRVVVW1RykAAACtEvRwtHLlSv32t7/VnXfeqWeffVbR0dG+ZRMmTNCYMWP81t+xY4ckqU+fPsEuBQAAoNWCGo52796tmTNnavDgwRo7dqwOHTqkgwcP6uDBgzp+/LiGDRumDz74QM8//7z27t2rTZs2afLkyRo2bFi73MEGAADQWkGdc/SXv/xFZ86c0fr167V+/Xq/ZcOHD9fs2bO1YMECFRUVqaioSPHx8brllltUWFgYzDIAAAACFtRwNG7cOI0bN67JdYYMGaIhQ4YEc7cAAABBE1nv5AQAANDOCEcAAAAGwhEAAICBcAQAAGAgHAEAABgIRwAAAAbCEQAAgIFwBAAAYCAcAQAAGAhHAAAABsIRAACAgXAEAABgIBwBAAAYCEcAAAAGwhEAAICBcAQAAGAgHAEAABgIRwAAAAbCEQAAgIFwBAAAYCAcAQAAGAhHAAAABsIRAACAgXAEAABgIBwBAAAYCEcAAAAGwhEAAICBcAQAAGAgHAEAABgIRwAAAAbCEQAAgIFwBAAAYCAcAQAAGAhHAAAABsIRAACAgXAEAABgIBwBAAAYCEcAAAAGwhEAAICBcAQAAGAgHAEAABgIRwAAAIaoUBcAAIBd5efH6OBB6Uz9nfJ6PKEu54IclqWLoqXk5Bj99a8nQ11OyBGOAABoJ9XVDh04IEmdQ11Ki3g8jlCXEBYIRwAAtDPLknr0CHUVF3bggBTGJ7Y6HOEIAIB21qOH9NVXoa7iwnr1kiorQ11F+GBCNgAAgIFwBAAAYOCyGgAgbDTe3XXy5I/lCeNJMJZl6bHHuLvLrghHAICw8fXdXReHupRmHTnC3V12RTiKAPH5g6SDNbr85HF53Q2hLqdJDmeUNOV3ik9O0ZG/bgp1OR2q8TjluFzyuN2hLueCLKdTWvHCN/IY2U3jWZaGU/3l9XhDXc4FOSyHoh5p3VkW7u5CKBGOIoBVXS0d2K+LQl1ISx1xyQrjF+r20nicOoW6kJY4fvwbeYzs5uuzLNGhLqVFWnOWhbu7EEohCUcej0eLFi3S6tWr5XK5dPXVV2vatGlKS0sLRTmRI9z/lJL4c0oK/+PEMbIdvuWA4HJ4vd4O//Nx0aJFWrlypWbNmqXu3btrzpw52rdvn9566y1FR7f+LyC326PDh0/4nn8/bZ+q6xLl9XoVzn8bOyQ5HA5173RE71RccsH1ftDzf1V1pptkOcP7FVD6v1dBt1IvOqS3K799wdV8x0gedfx3YMs5HJJDVrPHSIqg49TaYxTOB+j/tOTnSDJ7Cv/f1A5H8993A3qeVOWZ7urZMzLOsvS8qFofVcY1ua7derJbP5L5+u1VuP+Sdcj/tSEp6WI5nc3fqN/hZ47q6+v14osvauLEicrLy5MkzZ8/X4MGDdL69es1dOjQNu+jui5RlZ4w/uVk8kqqa3qVKneKKtVD8kgK+9O4//f/7nY2uVbEHKPGH/xmjpEUScfJZsdIatHPkWTDntzhH/L8tKReu/Vkt34UQT9HrXj9/kcdfubok08+0a233qp33nlH6enpvvHbb79dmZmZeuKJJ1r9Nb1erzzG/ImvKjxyR9B0Kqca1Cvtwkk20vqR7NdTc/1I9uvJbv1I9uvJ7MfZdNYNqcb7E1p7jOzQk936kSL758iyHHI4mp/71uHdVVVVSZJ6/MNlh5SUFB04O7Ow1RwOh5zOr5tN+3akvbdl04ch8vqR7NdT8z8qduvJbv1I9uvJbv1I9uvJbv1I9uzpH3V4h6dOnZKkc+YWderUSXV1AZz7AgAACKIOD0cxMTGSzs49MtXV1Sk2NrajywEAAPDT4eGo8XJaTU2N33hNTY1SU1M7uhwAAAA/HR6O+vbtq86dO2vr1q2+MZfLpc8//1wDBw7s6HIAAAD8dPiE7OjoaBUUFGju3LlKSkpSz549NWfOHKWmpmrw4MEdXQ4AAICfkNyL99BDD6mhoUFTp07V6dOnlZOTo+XLlwf0BpAAAADBFJJ3yAYAAAhXkfZmBQAAAO2KcAQAAGAgHAEAABgIRwAAAAbCEQAAgIFwBAAAYCAcNcPj8WjhwoUaNGiQsrOzNXr0aFVUVIS6rDY5ceKEfvvb3yovL09XX321HnjgAe3duzfUZQVkyZIlGjlypN/Yzp07VVBQoKuuuko33nijli9fHqLqAnO+niRp9+7duuqqq/TVV1+FoKrAna+fd999VyNGjNCAAQOUn5+vp556SqdPnw5Rha13oWPUaOrUqcrPz+/AitrmfP089thjyszM9HvccMMNIaqw9f6xp5EjR57TT+Nj7dq1oSu0hc53jHbs2KGCggINGDBAeXl5evrpp8/53NJwdr6etmzZoltvvVUDBgzQkCFD9Morr4SmOC+a9Nxzz3mvu+4673vvvefduXOnd/To0d7Bgwd76+rqQl1awO655x7voEGDvO+++663vLzcO3XqVO8///M/ew8fPhzq0lplxYoV3szMTG9BQYFv7PDhw95rr73WO2XKFG95ebn3jTfe8F555ZXeN954I4SVttz5evJ6vd7S0lJvXl6eNyMjw7tv374QVdd65+tn27Zt3u985zvepUuXevfs2ePdtGmTNy8vz/voo4+GsNKWu9AxarR+/XpvRkaG96abburgygJzoX6GDx/unTdvnrempsb3OHToUIiqbJ3z9XTkyBG/Xmpqarz33Xef9/vf/773+PHjIay2eefr59ChQ95rrrnG+/jjj/t+jnJzc72zZ88OYaUtd76ePvroI2/fvn29v/nNb7zl5eXejRs3ev/lX/7Fu2TJkg6vj3DUhLq6Ou+AAQO8K1eu9I0dO3bM279/f+9bb70VwsoCt3PnTm9GRob3vffe84253W7vzTff7F20aFEIK2u5qqoq75gxY7xXXXWV9/vf/77fD1dRUZF30KBB3jNnzvjGnnnmGe+QIUNCUWqLNdXTkiVLvP379/cOHz48YsJRU/1MmDDBe/fdd/utv3btWm9WVlZY/9HRVE+Nqqurvbm5ud6CgoKwD0dN9dPQ0OC98sorvevXrw9hha3XkmPU6N///d+9WVlZ3tLS0g6ssHWa6qcxhJvBbubMmd5hw4aFotQWa6qnBx980PuTn/zEb/0333zTm52d3eGvDVxWa0JpaalOnDih3Nxc31hCQoKysrK0bdu2EFYWuN27d0uS34f8Wpalvn37RkxPn332mbp06aJ169YpOzvbb9n27duVk5OjqKivPxknNzdXu3fv1qFDhzq61BZrqqe//e1vmjNnjn7961+HqLrWa6qf0aNHa9KkSeds09DQoNra2o4qsdWa6kmSvF6vHn30Uf3bv/2brrnmmhBU2DpN9bNnzx7V1dWpd+/eIaouMM0do0YnT57U008/rVGjRikzM7MDK2ydpvrp2rWrJOn3v/+93G63vvrqK23atKnJvsNBUz3t3r37nA+gz8rK0qlTp/TJJ590ZJmh+Wy1SFFVVSVJ6tGjh994SkqKDhw4EIqS2iw5OVnS2d7MF77KykrV1dWFqqxWyc/Pv+B8jqqqKmVkZPiNpaSkSJL279+vbt26tXt9gWiqp5UrV0qStm7d2pEltUlT/WRlZfk9r6+v14oVK3TFFVcoKSmpI8oLSFM9SdJLL72kgwcPqqioSEuXLu3AygLTVD+7du2Sw+FQcXGxNm/eLMuylJeXp8LCQsXHx3dwpS3X3DFq9Nprr+nEiRO6//77O6CqwDXVz8CBA3XfffdpwYIFmj9/vtxut6655ho9/vjjHVxl6zTVU3Jy8jm/WysrKyWpw/+45cxRE06dOiVJ53wgbqdOnSImSPyj7Oxs9e7dW9OmTdOBAwdUX1+vl156STt37oyoiXwXcvr06fMeL0kRe8zsrKGhQZMmTVJ5ebmmTZsW6nICVlpaqkWLFmnOnDm2+ADtL774QpZlqWfPnioqKtKvf/1rbdq0SQ888IA8Hk+oy2sTt9utl19+WXfccUdYB73muFwu7dmzR3feeadWr16tBQsWaO/evXriiSdCXVrAfvzjH+svf/mL1q5dqzNnzqiiokLPPvusHA5Hh/9+4sxRE2JiYiSd/cu28d/S2V+ysbGxoSqrTS666CItXrxYjz76qG688UZFRUXpxhtv1E9+8hN9+umnoS6vzWJiYs75IWoMRXFxcaEoCRdQW1urwsJCbd26VQsXLgz7ywEXUldXp1/96le6//771bdv31CXExTjx4/XXXfdpYSEBElSRkaGkpOTddttt2nHjh0Re6wk6cMPP9T+/fv105/+NNSltMncuXPlcrn03HPPSZKuuOIKdenSRXfddZdGjRoVkd+LP/zhD1VVVaXp06dr8uTJSkxM1MSJE/Xoo492eJDlzFETGi+n1dTU+I3X1NQoNTU1FCUFRXp6ulatWqUPP/xQW7Zs0eLFi3X06FFddtlloS6tzVJTU897vCSpe/fuoSgJ51FTU6M777xTH330kZYtWxZRt73/o//5n//RF198oUWLFmnAgAEaMGCAli5dqv3792vAgAFat25dqEtsNYfD4QtGjRovVzdON4hUGzZsUP/+/XXJJZeEupQ2KSkp0ZVXXuk31hhaG+eWRqL77rtPJSUl+o//+A9t3rxZ/fr1k9frVVpaWofWQThqQt++fdW5c2e/uR4ul0uff/75OZPGIkVtba0KCgr06aefqkuXLkpISNDx48f1n//5nxo0aFCoy2uznJwclZSUyO12+8a2bNmi9PT0sJ1v9E1z7NgxjRo1SocPH9bKlSv9bniIRP3799df//pXvfnmm1q7dq3Wrl2rn/3sZ0pJSdHatWsjMvhNmDBBY8aM8RvbsWOHJKlPnz6hKCloSkpKIv57Tjr7h2BZWZnf2K5duyQpYv/QffXVVzVt2jRZlqXu3bvL6XTqnXfeUa9evZSent6htRCOmhAdHa2CggLNnTtXGzduVGlpqR5++GGlpqZq8ODBoS4vIJ07d5bD4dDMmTNVVlam0tJSjRs3Tt/61rc0bNiwUJfXZiNGjFBtba2mTJmi8vJyrVmzRsXFxRo7dmyoS8P/mTVrlvbt26c5c+YoKSlJBw8e9D3MUBspYmJilJaW5vfo0qWLoqKilJaWps6dO4e6xFYbNmyYPvjgAz3//PPau3evNm3apMmTJ2vYsGERdwebye12q7y8/JybNiLR3Xffrb/97W969tlntXfvXm3ZskWPPvqo8vLy9J3vfCfU5QWkT58+Wr16tVavXq3KykqtWrVKRUVFmjBhQofXwpyjZjz00ENqaGjQ1KlTdfr0aeXk5Gj58uURPenymWee0ZNPPqmCggJZlqWbbrpJkyZN8rv9PVJ169ZNL7zwgmbMmKHhw4crOTlZkyZN0vDhw0NdGnT2Hef//Oc/68yZMxo1atQ5yzdu3KhevXqFoDKYbrrpJi1YsEBFRUUqKipSfHy8brnlFhUWFoa6tDY5evSozpw547sNPpJdf/31Wrp0qRYvXqzi4mIlJiZq8ODB+uUvfxnq0gJ27bXXasaMGSoqKtKTTz6ptLQ0zZkzRz/4wQ86vBaH1+v1dvheAQAAwhSX1QAAAAyEIwAAAAPhCAAAwEA4AgAAMBCOAAAADIQjAAAAA+EIAADAQDgCAAAwEI4A2EZmZqbvU8oBIFC8QzYA2/j444+Vmpqq1NTUUJcCIIIRjgAAAAyR/0mjAGwnPz9ft9xyi06fPq0//vGPkqS8vDxNnjxZiYmJevTRR3XgwAFddtll+tOf/qRLLrlEq1ev1hVXXKFf/OIXGj9+vCTp0KFDeuaZZ/Tee+/p1KlTysrK0iOPPKKrr75a0tkPwn3hhRe0evVqHThwQD179lRBQYFGjhwZst4BhB7hCEBYWrlypdLS0jRz5kwdPnxYzzzzjP73f/9Xq1evliRt375dDodDzz33nE6cOKGoKP+Xs5MnT+pnP/uZzpw5owkTJig1NVXFxcW655579MYbb6h379564okntGbNGo0dO1YDBgzQtm3bNHPmTLlcLj344IOhaBtAGCAcAQhLDodDK1asUHx8vCQpKSlJDz74oDZv3ixJamho0PTp05WWlnbe7f/4xz9q3759Wrt2rfr27StJGjhwoH70ox9p27ZtsixLr7/+uh555BHdd999kqTrr79eDodDS5cu1R133KHExMQO6BRAuOFuNQBh6aabbvIFI+nspbaLLrpI27dvlyTFxMTo0ksvveD227dvV69evXzBSJI6deqkt99+Wz/72c/0X//1X/J6vcrPz1dDQ4PvkZ+fr7q6OpWUlLRfcwDCGmeOAISllJQUv+eWZalr165yuVySpG7dusnhcFxw+6NHj6pbt25NLpekoUOHnnd5dXV1KysGYBeEIwBhqTG8NHK73Tpy5IiSkpJUVVXV7Pbx8fH66quvzhn/6KOP1LlzZyUkJEiSiouLdfHFF5+z3re+9a3ACgcQ8bisBiAs/e1vf1N9fb3v+caNG9XQ0KDrrruuRdsPHDhQ+/btU1lZmW+svr5e48eP1+uvv66cnBxJ0pEjR3TllVf6HkePHtWzzz57TjgD8M3BmSMAYamqqkr333+/fv7zn+vAgQOaN2+err/+el177bW+2/ub8uMf/1gvv/yy7r//fv3yl79UUlKSXn31VZ0+fVojR47UpZdeqh/+8Id6/PHHVVlZqX79+mn37t2aP3++evXqpcsuu6z9mwQQlghHAMLS0KFDlZCQoMLCQsXFxWn48OF6+OGHW7x9586d9corr+jpp5/WjBkz1NDQoOzsbL388su+idyzZs3S0qVL9dprr6mqqkrdunXTv/7rv6qwsFBOp7O9WgMQ5niHbABhJz8/X9dcc41mz54d6lIAfAMx5wgAAMBAOAIAADBwWQ0AAMDAmSMAAAAD4QgAAMBAOAIAADAQjgAAAAyEIwAAAAPhCAAAwEA4AgAAMBCOAAAADP8/v3s0kmCOAeoAAAAASUVORK5CYII=",
=======
      "image/png": "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",
>>>>>>> 620ddf8352482bd4bd1e7ea84ef04cbb2c3b752e
      "text/plain": [
       "<Figure size 600x600 with 1 Axes>"
      ]
     },
     "metadata": {},
     "output_type": "display_data"
    }
   ],
   "source": [
<<<<<<< HEAD
    "sns.barplot(data=df, x=most_frequent.index, y=most_frequent.values)\n",
    "x_max, y_max, x_min, y_min = highest_lowest(df, 'price')\n",
    "sns.barplot(data=df, x=x_max, y=y_max, linewidth=2, edgecolor=\"red\", facecolor=(1, 1, 1, 1))\n",
    "sns.barplot(data=df, x=x_min, y=y_min, linewidth=2, edgecolor=\"blue\", facecolor=(1, 1, 1, 1))"
=======
    "plt.figure(figsize=(6,6))\n",
    "plt.bar(price_x, price_y)\n",
    "plt.show()"
>>>>>>> 620ddf8352482bd4bd1e7ea84ef04cbb2c3b752e
   ]
  },
  {
   "cell_type": "markdown",
   "id": "b53a2740",
   "metadata": {},
   "source": [
    "#### Conclusion: most and least expensive rooms look like they are anomallies, they are too far from the most frequent both in value and frequency"
   ]
  },
  {
   "cell_type": "markdown",
   "id": "ec5a1474",
   "metadata": {},
   "source": [
    "### What are the prices by availability? Are they close to frequent prices?"
   ]
  },
  {
   "cell_type": "code",
   "execution_count": 221,
   "id": "8f2d5dc1",
   "metadata": {
    "scrolled": true
   },
   "outputs": [
    {
     "data": {
      "text/plain": [
       "availability_365\n",
       "0      1395\n",
       "5        72\n",
       "365      71\n",
       "16       68\n",
       "21       67\n",
       "11       66\n",
       "3        66\n",
       "24       65\n",
       "9        65\n",
       "1        63\n",
       "Name: count, dtype: int64"
      ]
     },
     "execution_count": 221,
     "metadata": {},
     "output_type": "execute_result"
    }
   ],
   "source": [
    "most_avail = df['availability_365'].value_counts().head(10)\n",
    "most_avail"
   ]
  },
  {
   "cell_type": "code",
   "execution_count": 241,
   "id": "800aac9f",
   "metadata": {},
   "outputs": [
    {
     "data": {
      "text/plain": [
       "availability_365\n",
       "0     0\n",
       "1    23\n",
       "2    18\n",
       "3    30\n",
       "4    17\n",
       "5    29\n",
       "6    48\n",
       "7    39\n",
       "8    33\n",
       "9    34\n",
       "Name: price, dtype: int64"
      ]
     },
     "execution_count": 241,
     "metadata": {},
     "output_type": "execute_result"
    }
   ],
   "source": [
    "lowest = sorteddf.groupby('availability_365')['price'].min()\n",
    "lowest.head(10)  ##minimum price by availability"
   ]
  },
  {
   "cell_type": "markdown",
   "id": "87ca3e9e",
   "metadata": {},
   "source": [
    "### Where are they available?"
   ]
  },
  {
   "cell_type": "code",
   "execution_count": null,
   "id": "49bee857",
   "metadata": {},
   "outputs": [],
   "source": []
  },
  {
   "cell_type": "markdown",
   "id": "98023f3a",
   "metadata": {},
   "source": [
    "### And what property types exist with most frequent prices? "
   ]
  },
  {
   "cell_type": "code",
   "execution_count": null,
   "id": "c506ef13",
   "metadata": {},
   "outputs": [],
   "source": []
  },
  {
   "cell_type": "markdown",
   "id": "779af29f",
   "metadata": {},
   "source": [
    "### What property types are available across the country?"
   ]
  },
  {
   "cell_type": "code",
   "execution_count": null,
   "id": "0e7f0b88",
   "metadata": {},
   "outputs": [],
   "source": []
  },
  {
   "cell_type": "markdown",
   "id": "98348271",
   "metadata": {},
   "source": [
    "### What rooms are available across the country?"
   ]
  },
  {
   "cell_type": "code",
   "execution_count": null,
   "id": "cf2f6896",
   "metadata": {},
   "outputs": [],
   "source": []
  },
  {
   "cell_type": "markdown",
   "id": "167e9586",
   "metadata": {},
   "source": [
    "### What are the most frequent locations?"
   ]
  },
  {
   "cell_type": "code",
   "execution_count": null,
   "id": "4197e4f4",
   "metadata": {},
   "outputs": [],
   "source": []
  },
  {
   "cell_type": "markdown",
   "id": "372c2824",
   "metadata": {},
   "source": [
    "#### This helps decision makers learn about:\n",
    "#### 1) The occurrence of prices\n",
    "#### 2) How to price newly introduced rooms\n",
    "#### 3) How to make newly priced rooms and property types more available\n",
    "#### 4) They should also learn about the average prices of property types and rooms in different locations\n",
    "#### 5) This is also helpful to understand analytics better and how to offer better deals to potential cutomers\n",
    "#### 6) How to save company resources and costs by knowing which locations and prices to make more available "
   ]
  }
 ],
 "metadata": {
  "kernelspec": {
   "display_name": "Python 3 (ipykernel)",
   "language": "python",
   "name": "python3"
  },
  "language_info": {
   "codemirror_mode": {
    "name": "ipython",
    "version": 3
   },
   "file_extension": ".py",
   "mimetype": "text/x-python",
   "name": "python",
   "nbconvert_exporter": "python",
   "pygments_lexer": "ipython3",
   "version": "3.9.16"
  }
 },
 "nbformat": 4,
 "nbformat_minor": 5
}
