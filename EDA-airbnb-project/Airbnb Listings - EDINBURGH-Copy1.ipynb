{
 "cells": [
  {
   "cell_type": "markdown",
   "id": "ead82d9e",
   "metadata": {},
   "source": [
    "# Exploratory Data Analysis: Airbnb Listings - New York"
   ]
  },
  {
   "cell_type": "markdown",
   "id": "648e1c3f",
   "metadata": {},
   "source": [
    "This project involves performing an exploratory data analysis (EDA) on Airbnb listings data for a particular city. The analysis will focus on factors such as price, availability, location, and property type to identify trends and patterns in the demand for Airbnb listings in the city. The project will include data cleaning, visualization, and statistical analysis using tools such as Python and Jupyter Notebook."
   ]
  },
  {
   "cell_type": "markdown",
   "id": "eedb1e75",
   "metadata": {},
   "source": [
    "## Importing libraries, loading dataset and simple exploration"
   ]
  },
  {
   "cell_type": "code",
   "execution_count": 2,
   "id": "1af4d53d",
   "metadata": {},
   "outputs": [],
   "source": [
    "#importing necessery libraries for future analysis of the dataset\n",
    "import numpy as np\n",
    "import pandas as pd\n",
    "import matplotlib.pyplot as plt\n",
    "import matplotlib.image as mpimg\n",
    "%matplotlib inline\n",
    "import seaborn as sns\n",
    "import plotly.express as px\n",
    "import os as os\n",
    "import sys as sys\n",
    "plt.style.use('ggplot')\n",
    "pd.set_option('display.max_columns', 200)\n",
    "#import ydata_profiling as pp\n",
    "#from ydata_profiling import ProfileReport   ##create a profile report for listings.csv"
   ]
  },
  {
   "cell_type": "code",
   "execution_count": 3,
   "id": "305e574e",
   "metadata": {},
   "outputs": [
    {
     "data": {
      "text/html": [
       "<div>\n",
       "<style scoped>\n",
       "    .dataframe tbody tr th:only-of-type {\n",
       "        vertical-align: middle;\n",
       "    }\n",
       "\n",
       "    .dataframe tbody tr th {\n",
       "        vertical-align: top;\n",
       "    }\n",
       "\n",
       "    .dataframe thead th {\n",
       "        text-align: right;\n",
       "    }\n",
       "</style>\n",
       "<table border=\"1\" class=\"dataframe\">\n",
       "  <thead>\n",
       "    <tr style=\"text-align: right;\">\n",
       "      <th></th>\n",
       "      <th>id</th>\n",
       "      <th>name</th>\n",
       "      <th>host_id</th>\n",
       "      <th>host_name</th>\n",
       "      <th>neighbourhood_group</th>\n",
       "      <th>neighbourhood</th>\n",
       "      <th>latitude</th>\n",
       "      <th>longitude</th>\n",
       "      <th>room_type</th>\n",
       "      <th>price</th>\n",
       "      <th>minimum_nights</th>\n",
       "      <th>number_of_reviews</th>\n",
       "      <th>last_review</th>\n",
       "      <th>reviews_per_month</th>\n",
       "      <th>calculated_host_listings_count</th>\n",
       "      <th>availability_365</th>\n",
       "      <th>number_of_reviews_ltm</th>\n",
       "      <th>license</th>\n",
       "    </tr>\n",
       "  </thead>\n",
       "  <tbody>\n",
       "    <tr>\n",
       "      <th>0</th>\n",
       "      <td>2595</td>\n",
       "      <td>Rental unit in New York · ★4.68 · Studio · 1 b...</td>\n",
       "      <td>2845</td>\n",
       "      <td>Jennifer</td>\n",
       "      <td>Manhattan</td>\n",
       "      <td>Midtown</td>\n",
       "      <td>40.75356</td>\n",
       "      <td>-73.98559</td>\n",
       "      <td>Entire home/apt</td>\n",
       "      <td>240</td>\n",
       "      <td>30</td>\n",
       "      <td>49</td>\n",
       "      <td>2022-06-21</td>\n",
       "      <td>0.29</td>\n",
       "      <td>3</td>\n",
       "      <td>365</td>\n",
       "      <td>0</td>\n",
       "      <td>NaN</td>\n",
       "    </tr>\n",
       "    <tr>\n",
       "      <th>1</th>\n",
       "      <td>5121</td>\n",
       "      <td>Rental unit in Brooklyn · ★4.52 · 1 bedroom · ...</td>\n",
       "      <td>7356</td>\n",
       "      <td>Garon</td>\n",
       "      <td>Brooklyn</td>\n",
       "      <td>Bedford-Stuyvesant</td>\n",
       "      <td>40.68535</td>\n",
       "      <td>-73.95512</td>\n",
       "      <td>Private room</td>\n",
       "      <td>66</td>\n",
       "      <td>30</td>\n",
       "      <td>50</td>\n",
       "      <td>2019-12-02</td>\n",
       "      <td>0.29</td>\n",
       "      <td>2</td>\n",
       "      <td>177</td>\n",
       "      <td>0</td>\n",
       "      <td>NaN</td>\n",
       "    </tr>\n",
       "  </tbody>\n",
       "</table>\n",
       "</div>"
      ],
      "text/plain": [
       "     id                                               name  host_id host_name  \\\n",
       "0  2595  Rental unit in New York · ★4.68 · Studio · 1 b...     2845  Jennifer   \n",
       "1  5121  Rental unit in Brooklyn · ★4.52 · 1 bedroom · ...     7356     Garon   \n",
       "\n",
       "  neighbourhood_group       neighbourhood  latitude  longitude  \\\n",
       "0           Manhattan             Midtown  40.75356  -73.98559   \n",
       "1            Brooklyn  Bedford-Stuyvesant  40.68535  -73.95512   \n",
       "\n",
       "         room_type  price  minimum_nights  number_of_reviews last_review  \\\n",
       "0  Entire home/apt    240              30                 49  2022-06-21   \n",
       "1     Private room     66              30                 50  2019-12-02   \n",
       "\n",
       "   reviews_per_month  calculated_host_listings_count  availability_365  \\\n",
       "0               0.29                               3               365   \n",
       "1               0.29                               2               177   \n",
       "\n",
       "   number_of_reviews_ltm  license  \n",
       "0                      0      NaN  \n",
       "1                      0      NaN  "
      ]
     },
     "execution_count": 3,
     "metadata": {},
     "output_type": "execute_result"
    }
   ],
   "source": [
    "df = pd.read_csv('listings_summary.csv')\n",
    "df.head(2)"
   ]
  },
  {
   "cell_type": "code",
   "execution_count": 4,
   "id": "972b273b",
   "metadata": {},
   "outputs": [
    {
     "data": {
      "text/plain": [
       "(39453, 18)"
      ]
     },
     "execution_count": 4,
     "metadata": {},
     "output_type": "execute_result"
    }
   ],
   "source": [
    "df.shape"
   ]
  },
  {
   "cell_type": "code",
   "execution_count": 5,
   "id": "928638f4",
   "metadata": {
    "scrolled": false
   },
   "outputs": [
    {
     "data": {
      "text/plain": [
       "id                                  int64\n",
       "name                               object\n",
       "host_id                             int64\n",
       "host_name                          object\n",
       "neighbourhood_group                object\n",
       "neighbourhood                      object\n",
       "latitude                          float64\n",
       "longitude                         float64\n",
       "room_type                          object\n",
       "price                               int64\n",
       "minimum_nights                      int64\n",
       "number_of_reviews                   int64\n",
       "last_review                        object\n",
       "reviews_per_month                 float64\n",
       "calculated_host_listings_count      int64\n",
       "availability_365                    int64\n",
       "number_of_reviews_ltm               int64\n",
       "license                           float64\n",
       "dtype: object"
      ]
     },
     "execution_count": 5,
     "metadata": {},
     "output_type": "execute_result"
    }
   ],
   "source": [
    "df.dtypes"
   ]
  },
  {
   "cell_type": "code",
   "execution_count": 11,
   "id": "65597a3b",
   "metadata": {},
   "outputs": [],
   "source": [
    "#df['neighbourhood'].unique()"
   ]
  },
  {
   "cell_type": "code",
   "execution_count": 12,
   "id": "80f22a4d",
   "metadata": {},
   "outputs": [],
   "source": [
    "#df['room_type'].unique()"
   ]
  },
  {
   "cell_type": "markdown",
   "id": "0808503d",
   "metadata": {},
   "source": [
    "## Data Cleaning"
   ]
  },
  {
   "cell_type": "code",
   "execution_count": 6,
   "id": "88635552",
   "metadata": {},
   "outputs": [
    {
     "data": {
      "text/plain": [
       "id                                    0\n",
       "name                                  0\n",
       "host_id                               0\n",
       "host_name                             5\n",
       "neighbourhood_group                   0\n",
       "neighbourhood                         0\n",
       "latitude                              0\n",
       "longitude                             0\n",
       "room_type                             0\n",
       "price                                 0\n",
       "minimum_nights                        0\n",
       "number_of_reviews                     0\n",
       "last_review                       10241\n",
       "reviews_per_month                 10241\n",
       "calculated_host_listings_count        0\n",
       "availability_365                      0\n",
       "number_of_reviews_ltm                 0\n",
       "license                           39453\n",
       "dtype: int64"
      ]
     },
     "execution_count": 6,
     "metadata": {},
     "output_type": "execute_result"
    }
   ],
   "source": [
    "df.isnull().sum()"
   ]
  },
  {
   "cell_type": "code",
   "execution_count": 14,
   "id": "4059158c",
   "metadata": {},
   "outputs": [
    {
     "data": {
      "text/html": [
       "<div>\n",
       "<style scoped>\n",
       "    .dataframe tbody tr th:only-of-type {\n",
       "        vertical-align: middle;\n",
       "    }\n",
       "\n",
       "    .dataframe tbody tr th {\n",
       "        vertical-align: top;\n",
       "    }\n",
       "\n",
       "    .dataframe thead th {\n",
       "        text-align: right;\n",
       "    }\n",
       "</style>\n",
       "<table border=\"1\" class=\"dataframe\">\n",
       "  <thead>\n",
       "    <tr style=\"text-align: right;\">\n",
       "      <th></th>\n",
       "      <th>name</th>\n",
       "      <th>host_id</th>\n",
       "      <th>neighbourhood</th>\n",
       "      <th>latitude</th>\n",
       "      <th>longitude</th>\n",
       "      <th>room_type</th>\n",
       "      <th>price</th>\n",
       "      <th>minimum_nights</th>\n",
       "      <th>number_of_reviews</th>\n",
       "      <th>reviews_per_month</th>\n",
       "      <th>calculated_host_listings_count</th>\n",
       "      <th>availability_365</th>\n",
       "      <th>number_of_reviews_ltm</th>\n",
       "    </tr>\n",
       "  </thead>\n",
       "  <tbody>\n",
       "    <tr>\n",
       "      <th>470</th>\n",
       "      <td>Home in Currie · ★4.84 · 1 bedroom · 1 bed · 1...</td>\n",
       "      <td>7779635</td>\n",
       "      <td>Currie West</td>\n",
       "      <td>55.89952</td>\n",
       "      <td>-3.34324</td>\n",
       "      <td>Private room</td>\n",
       "      <td>59</td>\n",
       "      <td>1</td>\n",
       "      <td>252</td>\n",
       "      <td>2.49</td>\n",
       "      <td>1</td>\n",
       "      <td>322</td>\n",
       "      <td>46</td>\n",
       "    </tr>\n",
       "  </tbody>\n",
       "</table>\n",
       "</div>"
      ],
      "text/plain": [
       "                                                  name  host_id neighbourhood  \\\n",
       "470  Home in Currie · ★4.84 · 1 bedroom · 1 bed · 1...  7779635   Currie West   \n",
       "\n",
       "     latitude  longitude     room_type  price  minimum_nights  \\\n",
       "470  55.89952   -3.34324  Private room     59               1   \n",
       "\n",
       "     number_of_reviews  reviews_per_month  calculated_host_listings_count  \\\n",
       "470                252               2.49                               1   \n",
       "\n",
       "     availability_365  number_of_reviews_ltm  \n",
       "470               322                     46  "
      ]
     },
     "execution_count": 14,
     "metadata": {},
     "output_type": "execute_result"
    }
   ],
   "source": [
    "df.drop(['id','host_name','last_review', 'license', 'neighbourhood_group'],axis=1,inplace=True)\n",
    "df.sample()"
   ]
  },
  {
   "cell_type": "code",
   "execution_count": 15,
   "id": "9b0bc913",
   "metadata": {},
   "outputs": [],
   "source": [
    "df['reviews_per_month'].fillna(0,inplace=True)"
   ]
  },
  {
   "cell_type": "code",
   "execution_count": 16,
   "id": "79e17275",
   "metadata": {
    "scrolled": true
   },
   "outputs": [
    {
     "data": {
      "text/html": [
       "<div>\n",
       "<style scoped>\n",
       "    .dataframe tbody tr th:only-of-type {\n",
       "        vertical-align: middle;\n",
       "    }\n",
       "\n",
       "    .dataframe tbody tr th {\n",
       "        vertical-align: top;\n",
       "    }\n",
       "\n",
       "    .dataframe thead th {\n",
       "        text-align: right;\n",
       "    }\n",
       "</style>\n",
       "<table border=\"1\" class=\"dataframe\">\n",
       "  <thead>\n",
       "    <tr style=\"text-align: right;\">\n",
       "      <th></th>\n",
       "      <th>name</th>\n",
       "      <th>host_id</th>\n",
       "      <th>neighbourhood</th>\n",
       "      <th>latitude</th>\n",
       "      <th>longitude</th>\n",
       "      <th>room_type</th>\n",
       "      <th>price</th>\n",
       "      <th>minimum_nights</th>\n",
       "      <th>number_of_reviews</th>\n",
       "      <th>reviews_per_month</th>\n",
       "      <th>calculated_host_listings_count</th>\n",
       "      <th>availability_365</th>\n",
       "      <th>number_of_reviews_ltm</th>\n",
       "    </tr>\n",
       "  </thead>\n",
       "  <tbody>\n",
       "    <tr>\n",
       "      <th>2736</th>\n",
       "      <td>Rental unit in Edinburgh · ★4.70 · 1 bedroom ·...</td>\n",
       "      <td>215670985</td>\n",
       "      <td>Meadowbank and Abbeyhill North</td>\n",
       "      <td>55.95795</td>\n",
       "      <td>-3.16977</td>\n",
       "      <td>Entire home/apt</td>\n",
       "      <td>92</td>\n",
       "      <td>3</td>\n",
       "      <td>79</td>\n",
       "      <td>1.41</td>\n",
       "      <td>5</td>\n",
       "      <td>14</td>\n",
       "      <td>35</td>\n",
       "    </tr>\n",
       "  </tbody>\n",
       "</table>\n",
       "</div>"
      ],
      "text/plain": [
       "                                                   name    host_id  \\\n",
       "2736  Rental unit in Edinburgh · ★4.70 · 1 bedroom ·...  215670985   \n",
       "\n",
       "                       neighbourhood  latitude  longitude        room_type  \\\n",
       "2736  Meadowbank and Abbeyhill North  55.95795   -3.16977  Entire home/apt   \n",
       "\n",
       "      price  minimum_nights  number_of_reviews  reviews_per_month  \\\n",
       "2736     92               3                 79               1.41   \n",
       "\n",
       "      calculated_host_listings_count  availability_365  number_of_reviews_ltm  \n",
       "2736                               5                14                     35  "
      ]
     },
     "execution_count": 16,
     "metadata": {},
     "output_type": "execute_result"
    }
   ],
   "source": [
    "df.sample()"
   ]
  },
  {
   "cell_type": "markdown",
   "id": "5a44b775",
   "metadata": {},
   "source": [
    "## TRENDS"
   ]
  },
  {
   "cell_type": "code",
   "execution_count": 196,
   "id": "d0e99214",
   "metadata": {},
   "outputs": [],
   "source": [
    "def most_frequent_bar(df, column):\n",
    "    most_frequent = df[column].value_counts().head(10)\n",
    "    sns.set(rc={'figure.figsize':(6,6)})\n",
    "    bar = most_frequent.plot(kind='bar')\n",
    "    return most_frequent\n",
    "    \n",
    "def highest_lowest(df, column):\n",
    "    sorteddf = df.sort_values(by= column, ascending=False)\n",
    "    top = sorteddf[column].unique()\n",
    "    highest = []\n",
    "    for i in range(10):\n",
    "        highest.append(top[i])  ##highest 10 unique\n",
    "    \n",
    "    sorteddf2 = df.sort_values(by= column, ascending=True)\n",
    "    bottom = sorteddf2[column].unique()\n",
    "    lowest = []\n",
    "    for i in range(10):\n",
    "        lowest.append(bottom[i])  ##lowest 10 unique\n",
    "    \n",
    "    x_max=[]\n",
    "    x_min=[]\n",
    "    y_max=[]\n",
    "    y_min=[]\n",
    "    for i in range(10):\n",
    "        x_min.append(lowest[i])\n",
    "        y_min.append(sorteddf[sorteddf[column] == lowest[i]].count().values[0])\n",
    "        x_max.append(highest[i])\n",
    "        y_max.append(sorteddf[sorteddf[column] == highest[i]].count().values[0])\n",
    "        \n",
    "        \n",
    "    return x_max, y_max, x_min, y_min    "
   ]
  },
  {
   "cell_type": "markdown",
   "id": "aeb645ba",
   "metadata": {},
   "source": [
    "### What are the most frequent prices?"
   ]
  },
  {
   "cell_type": "code",
   "execution_count": 197,
   "id": "151fe3fc",
   "metadata": {},
   "outputs": [
    {
     "data": {
      "image/png": "[encoded data removed]",
      "text/plain": [
       "<Figure size 600x600 with 1 Axes>"
      ]
     },
     "metadata": {},
     "output_type": "display_data"
    }
   ],
   "source": [
    "most_frequent = most_frequent_bar(df, 'price')"
   ]
  },
  {
   "cell_type": "markdown",
   "id": "dd29e983",
   "metadata": {},
   "source": [
    "### Are the most frequent prices closer to the cheapest or most expensive rooms?"
   ]
  },
  {
   "cell_type": "code",
   "execution_count": 201,
   "id": "31696d45",
   "metadata": {},
   "outputs": [],
   "source": [
    "#sns.set(rc={'figure.figsize':(6,6)})\n",
    "#price_bar = most_frequent.plot(kind='bar')\n",
    "#price_max_x, price_min_x = highest_lowest(df, 'price')"
   ]
  },
  {
   "cell_type": "code",
   "execution_count": 202,
   "id": "6f0cea6a",
   "metadata": {},
   "outputs": [],
   "source": [
    "#sns.barplot(data=df, x=most_frequent.index, y=most_frequent.values)"
   ]
  },
  {
   "cell_type": "code",
   "execution_count": 203,
   "id": "82eb6385",
   "metadata": {},
   "outputs": [
    {
     "data": {
      "text/plain": [
       "<Axes: xlabel='price'>"
      ]
     },
     "execution_count": 203,
     "metadata": {},
     "output_type": "execute_result"
    },
    {
     "data": {
      "image/png": "[encoded data removed]",
      "text/plain": [
       "<Figure size 600x600 with 1 Axes>"
      ]
     },
     "metadata": {},
     "output_type": "display_data"
    }
   ],
   "source": [
    "sns.barplot(data=df, x=most_frequent.index, y=most_frequent.values)\n",
    "x_max, y_max, x_min, y_min = highest_lowest(df, 'price')\n",
    "sns.barplot(data=df, x=x_max, y=y_max, linewidth=2, edgecolor=\"red\", facecolor=(1, 1, 1, 1))\n",
    "sns.barplot(data=df, x=x_min, y=y_min, linewidth=2, edgecolor=\"blue\", facecolor=(1, 1, 1, 1))"
   ]
  },
  {
   "cell_type": "markdown",
   "id": "b53a2740",
   "metadata": {},
   "source": [
    "#### Conclusion: most and least expensive rooms look like they are anomallies, they are too far from the most frequent both in value and frequency"
   ]
  },
  {
   "cell_type": "markdown",
   "id": "ec5a1474",
   "metadata": {},
   "source": [
    "### What are the prices by availability? Are they close to frequent prices?"
   ]
  },
  {
   "cell_type": "code",
   "execution_count": 221,
   "id": "8f2d5dc1",
   "metadata": {
    "scrolled": true
   },
   "outputs": [
    {
     "data": {
      "text/plain": [
       "availability_365\n",
       "0      1395\n",
       "5        72\n",
       "365      71\n",
       "16       68\n",
       "21       67\n",
       "11       66\n",
       "3        66\n",
       "24       65\n",
       "9        65\n",
       "1        63\n",
       "Name: count, dtype: int64"
      ]
     },
     "execution_count": 221,
     "metadata": {},
     "output_type": "execute_result"
    }
   ],
   "source": [
    "most_avail = df['availability_365'].value_counts().head(10)\n",
    "most_avail"
   ]
  },
  {
   "cell_type": "code",
   "execution_count": 241,
   "id": "800aac9f",
   "metadata": {},
   "outputs": [
    {
     "data": {
      "text/plain": [
       "availability_365\n",
       "0     0\n",
       "1    23\n",
       "2    18\n",
       "3    30\n",
       "4    17\n",
       "5    29\n",
       "6    48\n",
       "7    39\n",
       "8    33\n",
       "9    34\n",
       "Name: price, dtype: int64"
      ]
     },
     "execution_count": 241,
     "metadata": {},
     "output_type": "execute_result"
    }
   ],
   "source": [
    "lowest = sorteddf.groupby('availability_365')['price'].min()\n",
    "lowest.head(10)  ##minimum price by availability"
   ]
  },
  {
   "cell_type": "markdown",
   "id": "87ca3e9e",
   "metadata": {},
   "source": [
    "### Where are they available?"
   ]
  },
  {
   "cell_type": "code",
   "execution_count": null,
   "id": "49bee857",
   "metadata": {},
   "outputs": [],
   "source": []
  },
  {
   "cell_type": "markdown",
   "id": "98023f3a",
   "metadata": {},
   "source": [
    "### And what property types exist with most frequent prices? "
   ]
  },
  {
   "cell_type": "code",
   "execution_count": null,
   "id": "c506ef13",
   "metadata": {},
   "outputs": [],
   "source": []
  },
  {
   "cell_type": "markdown",
   "id": "779af29f",
   "metadata": {},
   "source": [
    "### What property types are available across the country?"
   ]
  },
  {
   "cell_type": "code",
   "execution_count": null,
   "id": "0e7f0b88",
   "metadata": {},
   "outputs": [],
   "source": []
  },
  {
   "cell_type": "markdown",
   "id": "98348271",
   "metadata": {},
   "source": [
    "### What rooms are available across the country?"
   ]
  },
  {
   "cell_type": "code",
   "execution_count": null,
   "id": "cf2f6896",
   "metadata": {},
   "outputs": [],
   "source": []
  },
  {
   "cell_type": "markdown",
   "id": "167e9586",
   "metadata": {},
   "source": [
    "### What are the most frequent locations?"
   ]
  },
  {
   "cell_type": "code",
   "execution_count": null,
   "id": "4197e4f4",
   "metadata": {},
   "outputs": [],
   "source": []
  },
  {
   "cell_type": "markdown",
   "id": "372c2824",
   "metadata": {},
   "source": [
    "#### This helps decision makers learn about:\n",
    "#### 1) The occurrence of prices\n",
    "#### 2) How to price newly introduced rooms\n",
    "#### 3) How to make newly priced rooms and property types more available\n",
    "#### 4) They should also learn about the average prices of property types and rooms in different locations\n",
    "#### 5) This is also helpful to understand analytics better and how to offer better deals to potential cutomers\n",
    "#### 6) How to save company resources and costs by knowing which locations and prices to make more available "
   ]
  }
 ],
 "metadata": {
  "kernelspec": {
   "display_name": "Python 3 (ipykernel)",
   "language": "python",
   "name": "python3"
  },
  "language_info": {
   "codemirror_mode": {
    "name": "ipython",
    "version": 3
   },
   "file_extension": ".py",
   "mimetype": "text/x-python",
   "name": "python",
   "nbconvert_exporter": "python",
   "pygments_lexer": "ipython3",
   "version": "3.9.16"
  }
 },
 "nbformat": 4,
 "nbformat_minor": 5
}
