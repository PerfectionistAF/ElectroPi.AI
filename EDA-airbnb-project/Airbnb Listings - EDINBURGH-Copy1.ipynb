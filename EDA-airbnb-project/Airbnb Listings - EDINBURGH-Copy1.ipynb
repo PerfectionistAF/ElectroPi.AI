{
 "cells": [
  {
   "cell_type": "markdown",
   "id": "ead82d9e",
   "metadata": {},
   "source": [
    "# Exploratory Data Analysis: Airbnb Listings - Edinburgh "
   ]
  },
  {
   "cell_type": "markdown",
   "id": "648e1c3f",
   "metadata": {},
   "source": [
    "This project involves performing an exploratory data analysis (EDA) on Airbnb listings data for a particular city. The analysis will focus on factors such as price, availability, location, and property type to identify trends and patterns in the demand for Airbnb listings in the city. The project will include data cleaning, visualization, and statistical analysis using tools such as Python and Jupyter Notebook."
   ]
  },
  {
   "cell_type": "markdown",
   "id": "eedb1e75",
   "metadata": {},
   "source": [
    "## Importing libraries, loading dataset and simple exploration"
   ]
  },
  {
   "cell_type": "code",
   "execution_count": 56,
   "id": "1af4d53d",
   "metadata": {},
   "outputs": [],
   "source": [
    "import numpy as np\n",
    "import pandas as pd\n",
    "import matplotlib.pyplot as plt\n",
    "import matplotlib.image as mpimg\n",
    "import seaborn as sns\n",
    "import plotly.express as px\n",
    "import os as os\n",
    "import sys as sys\n",
    "plt.style.use('ggplot')\n",
    "pd.set_option('display.max_columns', 200)\n",
    "#import ydata_profiling as pp\n",
    "#from ydata_profiling import ProfileReport   ##create a profile report for listings.csv"
   ]
  },
  {
   "cell_type": "code",
   "execution_count": 57,
   "id": "305e574e",
   "metadata": {},
   "outputs": [
    {
     "data": {
      "text/html": [
       "<div>\n",
       "<style scoped>\n",
       "    .dataframe tbody tr th:only-of-type {\n",
       "        vertical-align: middle;\n",
       "    }\n",
       "\n",
       "    .dataframe tbody tr th {\n",
       "        vertical-align: top;\n",
       "    }\n",
       "\n",
       "    .dataframe thead th {\n",
       "        text-align: right;\n",
       "    }\n",
       "</style>\n",
       "<table border=\"1\" class=\"dataframe\">\n",
       "  <thead>\n",
       "    <tr style=\"text-align: right;\">\n",
       "      <th></th>\n",
       "      <th>id</th>\n",
       "      <th>name</th>\n",
       "      <th>host_id</th>\n",
       "      <th>host_name</th>\n",
       "      <th>neighbourhood_group</th>\n",
       "      <th>neighbourhood</th>\n",
       "      <th>latitude</th>\n",
       "      <th>longitude</th>\n",
       "      <th>room_type</th>\n",
       "      <th>price</th>\n",
       "      <th>minimum_nights</th>\n",
       "      <th>number_of_reviews</th>\n",
       "      <th>last_review</th>\n",
       "      <th>reviews_per_month</th>\n",
       "      <th>calculated_host_listings_count</th>\n",
       "      <th>availability_365</th>\n",
       "      <th>number_of_reviews_ltm</th>\n",
       "      <th>license</th>\n",
       "    </tr>\n",
       "  </thead>\n",
       "  <tbody>\n",
       "    <tr>\n",
       "      <th>0</th>\n",
       "      <td>15420</td>\n",
       "      <td>Rental unit in Edinburgh · ★4.98 · 1 bedroom ·...</td>\n",
       "      <td>60423</td>\n",
       "      <td>Charlotte</td>\n",
       "      <td>NaN</td>\n",
       "      <td>Old Town, Princes Street and Leith Street</td>\n",
       "      <td>55.957590</td>\n",
       "      <td>-3.188050</td>\n",
       "      <td>Entire home/apt</td>\n",
       "      <td>126</td>\n",
       "      <td>3</td>\n",
       "      <td>492</td>\n",
       "      <td>2023-06-11</td>\n",
       "      <td>3.26</td>\n",
       "      <td>1</td>\n",
       "      <td>39</td>\n",
       "      <td>81</td>\n",
       "      <td>NaN</td>\n",
       "    </tr>\n",
       "    <tr>\n",
       "      <th>1</th>\n",
       "      <td>24288</td>\n",
       "      <td>Loft in Edinburgh · ★4.62 · 2 bedrooms · 2 bed...</td>\n",
       "      <td>46498</td>\n",
       "      <td>Gordon</td>\n",
       "      <td>NaN</td>\n",
       "      <td>Canongate, Southside and Dumbiedykes</td>\n",
       "      <td>55.944983</td>\n",
       "      <td>-3.185293</td>\n",
       "      <td>Entire home/apt</td>\n",
       "      <td>95</td>\n",
       "      <td>3</td>\n",
       "      <td>274</td>\n",
       "      <td>2023-05-29</td>\n",
       "      <td>1.77</td>\n",
       "      <td>1</td>\n",
       "      <td>46</td>\n",
       "      <td>46</td>\n",
       "      <td>NaN</td>\n",
       "    </tr>\n",
       "  </tbody>\n",
       "</table>\n",
       "</div>"
      ],
      "text/plain": [
       "      id                                               name  host_id  \\\n",
       "0  15420  Rental unit in Edinburgh · ★4.98 · 1 bedroom ·...    60423   \n",
       "1  24288  Loft in Edinburgh · ★4.62 · 2 bedrooms · 2 bed...    46498   \n",
       "\n",
       "   host_name  neighbourhood_group                              neighbourhood  \\\n",
       "0  Charlotte                  NaN  Old Town, Princes Street and Leith Street   \n",
       "1     Gordon                  NaN       Canongate, Southside and Dumbiedykes   \n",
       "\n",
       "    latitude  longitude        room_type  price  minimum_nights  \\\n",
       "0  55.957590  -3.188050  Entire home/apt    126               3   \n",
       "1  55.944983  -3.185293  Entire home/apt     95               3   \n",
       "\n",
       "   number_of_reviews last_review  reviews_per_month  \\\n",
       "0                492  2023-06-11               3.26   \n",
       "1                274  2023-05-29               1.77   \n",
       "\n",
       "   calculated_host_listings_count  availability_365  number_of_reviews_ltm  \\\n",
       "0                               1                39                     81   \n",
       "1                               1                46                     46   \n",
       "\n",
       "  license  \n",
       "0     NaN  \n",
       "1     NaN  "
      ]
     },
     "execution_count": 57,
     "metadata": {},
     "output_type": "execute_result"
    }
   ],
   "source": [
    "df = pd.read_csv('listings_summary.csv')\n",
    "df.head(2)"
   ]
  },
  {
   "cell_type": "code",
   "execution_count": 58,
   "id": "972b273b",
   "metadata": {},
   "outputs": [
    {
     "data": {
      "text/plain": [
       "(7698, 18)"
      ]
     },
     "execution_count": 58,
     "metadata": {},
     "output_type": "execute_result"
    }
   ],
   "source": [
    "df.shape"
   ]
  },
  {
   "cell_type": "code",
   "execution_count": 59,
   "id": "928638f4",
   "metadata": {
    "scrolled": true
   },
   "outputs": [
    {
     "data": {
      "text/plain": [
       "id                                  int64\n",
       "name                               object\n",
       "host_id                             int64\n",
       "host_name                          object\n",
       "neighbourhood_group               float64\n",
       "neighbourhood                      object\n",
       "latitude                          float64\n",
       "longitude                         float64\n",
       "room_type                          object\n",
       "price                               int64\n",
       "minimum_nights                      int64\n",
       "number_of_reviews                   int64\n",
       "last_review                        object\n",
       "reviews_per_month                 float64\n",
       "calculated_host_listings_count      int64\n",
       "availability_365                    int64\n",
       "number_of_reviews_ltm               int64\n",
       "license                            object\n",
       "dtype: object"
      ]
     },
     "execution_count": 59,
     "metadata": {},
     "output_type": "execute_result"
    }
   ],
   "source": [
    "df.dtypes"
   ]
  },
  {
   "cell_type": "code",
   "execution_count": 159,
   "id": "65597a3b",
   "metadata": {},
   "outputs": [],
   "source": [
    "#df['neighbourhood'].unique()"
   ]
  },
  {
   "cell_type": "code",
   "execution_count": 160,
   "id": "80f22a4d",
   "metadata": {},
   "outputs": [],
   "source": [
    "#df['room_type'].unique()"
   ]
  },
  {
   "cell_type": "markdown",
   "id": "0808503d",
   "metadata": {},
   "source": [
    "## Data Cleaning"
   ]
  },
  {
   "cell_type": "code",
   "execution_count": 63,
   "id": "88635552",
   "metadata": {},
   "outputs": [
    {
     "data": {
      "text/plain": [
       "id                                   0\n",
       "name                                 0\n",
       "host_id                              0\n",
       "host_name                            2\n",
       "neighbourhood_group               7698\n",
       "neighbourhood                        0\n",
       "latitude                             0\n",
       "longitude                            0\n",
       "room_type                            0\n",
       "price                                0\n",
       "minimum_nights                       0\n",
       "number_of_reviews                    0\n",
       "last_review                        829\n",
       "reviews_per_month                  829\n",
       "calculated_host_listings_count       0\n",
       "availability_365                     0\n",
       "number_of_reviews_ltm                0\n",
       "license                           7672\n",
       "dtype: int64"
      ]
     },
     "execution_count": 63,
     "metadata": {},
     "output_type": "execute_result"
    }
   ],
   "source": [
    "df.isnull().sum()"
   ]
  },
  {
   "cell_type": "code",
   "execution_count": 64,
   "id": "4059158c",
   "metadata": {},
   "outputs": [
    {
     "data": {
      "text/html": [
       "<div>\n",
       "<style scoped>\n",
       "    .dataframe tbody tr th:only-of-type {\n",
       "        vertical-align: middle;\n",
       "    }\n",
       "\n",
       "    .dataframe tbody tr th {\n",
       "        vertical-align: top;\n",
       "    }\n",
       "\n",
       "    .dataframe thead th {\n",
       "        text-align: right;\n",
       "    }\n",
       "</style>\n",
       "<table border=\"1\" class=\"dataframe\">\n",
       "  <thead>\n",
       "    <tr style=\"text-align: right;\">\n",
       "      <th></th>\n",
       "      <th>name</th>\n",
       "      <th>host_id</th>\n",
       "      <th>neighbourhood</th>\n",
       "      <th>latitude</th>\n",
       "      <th>longitude</th>\n",
       "      <th>room_type</th>\n",
       "      <th>price</th>\n",
       "      <th>minimum_nights</th>\n",
       "      <th>number_of_reviews</th>\n",
       "      <th>reviews_per_month</th>\n",
       "      <th>calculated_host_listings_count</th>\n",
       "      <th>availability_365</th>\n",
       "      <th>number_of_reviews_ltm</th>\n",
       "    </tr>\n",
       "  </thead>\n",
       "  <tbody>\n",
       "    <tr>\n",
       "      <th>1783</th>\n",
       "      <td>Home in Edinburgh · ★4.75 · 3 bedrooms · 3 bed...</td>\n",
       "      <td>20923270</td>\n",
       "      <td>The Grange</td>\n",
       "      <td>55.93565</td>\n",
       "      <td>-3.17784</td>\n",
       "      <td>Entire home/apt</td>\n",
       "      <td>491</td>\n",
       "      <td>1</td>\n",
       "      <td>20</td>\n",
       "      <td>0.34</td>\n",
       "      <td>14</td>\n",
       "      <td>47</td>\n",
       "      <td>6</td>\n",
       "    </tr>\n",
       "  </tbody>\n",
       "</table>\n",
       "</div>"
      ],
      "text/plain": [
       "                                                   name   host_id  \\\n",
       "1783  Home in Edinburgh · ★4.75 · 3 bedrooms · 3 bed...  20923270   \n",
       "\n",
       "     neighbourhood  latitude  longitude        room_type  price  \\\n",
       "1783    The Grange  55.93565   -3.17784  Entire home/apt    491   \n",
       "\n",
       "      minimum_nights  number_of_reviews  reviews_per_month  \\\n",
       "1783               1                 20               0.34   \n",
       "\n",
       "      calculated_host_listings_count  availability_365  number_of_reviews_ltm  \n",
       "1783                              14                47                      6  "
      ]
     },
     "execution_count": 64,
     "metadata": {},
     "output_type": "execute_result"
    }
   ],
   "source": [
    "df.drop(['id','host_name','last_review', 'license', 'neighbourhood_group'],axis=1,inplace=True)\n",
    "df.sample()"
   ]
  },
  {
   "cell_type": "code",
   "execution_count": 65,
   "id": "9b0bc913",
   "metadata": {},
   "outputs": [],
   "source": [
    "df['reviews_per_month'].fillna(0,inplace=True)"
   ]
  },
  {
   "cell_type": "code",
   "execution_count": 69,
   "id": "79e17275",
   "metadata": {
    "scrolled": true
   },
   "outputs": [
    {
     "data": {
      "text/html": [
       "<div>\n",
       "<style scoped>\n",
       "    .dataframe tbody tr th:only-of-type {\n",
       "        vertical-align: middle;\n",
       "    }\n",
       "\n",
       "    .dataframe tbody tr th {\n",
       "        vertical-align: top;\n",
       "    }\n",
       "\n",
       "    .dataframe thead th {\n",
       "        text-align: right;\n",
       "    }\n",
       "</style>\n",
       "<table border=\"1\" class=\"dataframe\">\n",
       "  <thead>\n",
       "    <tr style=\"text-align: right;\">\n",
       "      <th></th>\n",
       "      <th>name</th>\n",
       "      <th>host_id</th>\n",
       "      <th>neighbourhood</th>\n",
       "      <th>latitude</th>\n",
       "      <th>longitude</th>\n",
       "      <th>room_type</th>\n",
       "      <th>price</th>\n",
       "      <th>minimum_nights</th>\n",
       "      <th>number_of_reviews</th>\n",
       "      <th>reviews_per_month</th>\n",
       "      <th>calculated_host_listings_count</th>\n",
       "      <th>availability_365</th>\n",
       "      <th>number_of_reviews_ltm</th>\n",
       "    </tr>\n",
       "  </thead>\n",
       "  <tbody>\n",
       "    <tr>\n",
       "      <th>7211</th>\n",
       "      <td>Rental unit in Edinburgh · ★5.0 · 1 bedroom · ...</td>\n",
       "      <td>191891016</td>\n",
       "      <td>Dalry and Fountainbridge</td>\n",
       "      <td>55.941495</td>\n",
       "      <td>-3.213148</td>\n",
       "      <td>Entire home/apt</td>\n",
       "      <td>99</td>\n",
       "      <td>2</td>\n",
       "      <td>5</td>\n",
       "      <td>3.19</td>\n",
       "      <td>11</td>\n",
       "      <td>38</td>\n",
       "      <td>5</td>\n",
       "    </tr>\n",
       "  </tbody>\n",
       "</table>\n",
       "</div>"
      ],
      "text/plain": [
       "                                                   name    host_id  \\\n",
       "7211  Rental unit in Edinburgh · ★5.0 · 1 bedroom · ...  191891016   \n",
       "\n",
       "                 neighbourhood   latitude  longitude        room_type  price  \\\n",
       "7211  Dalry and Fountainbridge  55.941495  -3.213148  Entire home/apt     99   \n",
       "\n",
       "      minimum_nights  number_of_reviews  reviews_per_month  \\\n",
       "7211               2                  5               3.19   \n",
       "\n",
       "      calculated_host_listings_count  availability_365  number_of_reviews_ltm  \n",
       "7211                              11                38                      5  "
      ]
     },
     "execution_count": 69,
     "metadata": {},
     "output_type": "execute_result"
    }
   ],
   "source": [
    "df.sample()"
   ]
  },
  {
   "cell_type": "markdown",
   "id": "5a44b775",
   "metadata": {},
   "source": [
    "## TRENDS"
   ]
  },
  {
   "cell_type": "markdown",
   "id": "aeb645ba",
   "metadata": {},
   "source": [
    "### What are the most frequent prices?"
   ]
  },
  {
   "cell_type": "code",
   "execution_count": 168,
   "id": "0bd13f3a",
   "metadata": {},
   "outputs": [
    {
     "name": "stdout",
     "output_type": "stream",
     "text": [
      "Most frequent:\n"
     ]
    },
    {
     "data": {
      "text/plain": [
       "price\n",
       "100    192\n",
       "150    165\n",
       "120    128\n",
       "50     123\n",
       "200    116\n",
       "60     115\n",
       "75     106\n",
       "80     106\n",
       "70      96\n",
       "250     94\n",
       "Name: count, dtype: int64"
      ]
     },
     "execution_count": 168,
     "metadata": {},
     "output_type": "execute_result"
    }
   ],
   "source": [
    "df['price'].value_counts().head(10)\n",
    "most_frequent = df['price'].value_counts().head(10)\n",
    "print('Most frequent:')\n",
    "most_frequent"
   ]
  },
  {
   "cell_type": "markdown",
   "id": "dd29e983",
   "metadata": {},
   "source": [
    "### Are the most frequent prices closer to the cheapest or most expensive rooms?"
   ]
  },
  {
   "cell_type": "code",
   "execution_count": 163,
   "id": "49d9b55b",
   "metadata": {},
   "outputs": [
    {
     "name": "stdout",
     "output_type": "stream",
     "text": [
      "Most expensive:\n",
      "\n",
      "[20551, 19591, 10000, 9391, 8597, 7161, 6200, 6000, 5000, 4884]\n",
      "\n",
      "\n",
      "Least expensive:\n",
      "\n",
      "[0, 9, 10, 11, 12, 14, 15, 17, 18, 19]\n"
     ]
    }
   ],
   "source": [
    "#most expensive\n",
    "sorteddf = df.sort_values(by='price', ascending=False)\n",
    "top = sorteddf['price'].unique()\n",
    "most_expensive = []\n",
    "for i in range(10):\n",
    "    most_expensive.append(top[i])  ##highest 10 unique prices\n",
    "print('Most expensive:\\n')\n",
    "print(most_expensive)\n",
    "print('\\n')\n",
    "#least expensive\n",
    "sorteddf2 = df.sort_values(by='price', ascending=True)\n",
    "bottom = sorteddf2['price'].unique()\n",
    "least_expensive = []\n",
    "for i in range(10):\n",
    "    least_expensive.append(bottom[i])  ##lowest 10 unique prices\n",
    "    \n",
    "print('Least expensive:\\n')\n",
    "print(least_expensive)"
   ]
  },
  {
   "cell_type": "code",
   "execution_count": 191,
   "id": "31696d45",
   "metadata": {},
   "outputs": [
    {
     "data": {
      "image/png": "[encoded data removed]",
      "text/plain": [
       "<Figure size 800x800 with 1 Axes>"
      ]
     },
     "metadata": {},
     "output_type": "display_data"
    }
   ],
   "source": [
    "sns.set(rc={'figure.figsize':(8,8)})\n",
    "price_bar = most_frequent.plot(kind='bar')"
   ]
  },
  {
   "cell_type": "code",
   "execution_count": 202,
   "id": "fcc6c9dc",
   "metadata": {},
   "outputs": [],
   "source": [
    "price_x = []\n",
    "price_y = []\n",
    "for i in range(10):\n",
    "    #print('price:',most_expensive[i],' number:', sorteddf[sorteddf['price'] == most_expensive[i]].count().values[0])\n",
    "    price_x.append(least_expensive[i])\n",
    "    price_y.append(sorteddf[sorteddf['price'] == least_expensive[i]].count().values[0])"
   ]
  },
  {
   "cell_type": "code",
   "execution_count": 206,
   "id": "f36b3626",
   "metadata": {},
   "outputs": [
    {
     "data": {
      "image/png": "[encoded data removed]",
      "text/plain": [
       "<Figure size 600x600 with 1 Axes>"
      ]
     },
     "metadata": {},
     "output_type": "display_data"
    }
   ],
   "source": [
    "plt.figure(figsize=(6,6))\n",
    "plt.bar(price_x, price_y)\n",
    "plt.show()"
   ]
  },
  {
   "cell_type": "markdown",
   "id": "b53a2740",
   "metadata": {},
   "source": [
    "#### Conclusion: most and least expensive rooms look like they are anomallies, they are too far from the most frequent both in value and frequency"
   ]
  },
  {
   "cell_type": "markdown",
   "id": "ec5a1474",
   "metadata": {},
   "source": [
    "### What are the prices by availability? Are they close to frequent prices?"
   ]
  },
  {
   "cell_type": "code",
   "execution_count": 221,
   "id": "8f2d5dc1",
   "metadata": {
    "scrolled": true
   },
   "outputs": [
    {
     "data": {
      "text/plain": [
       "availability_365\n",
       "0      1395\n",
       "5        72\n",
       "365      71\n",
       "16       68\n",
       "21       67\n",
       "11       66\n",
       "3        66\n",
       "24       65\n",
       "9        65\n",
       "1        63\n",
       "Name: count, dtype: int64"
      ]
     },
     "execution_count": 221,
     "metadata": {},
     "output_type": "execute_result"
    }
   ],
   "source": [
    "most_avail = df['availability_365'].value_counts().head(10)\n",
    "most_avail"
   ]
  },
  {
   "cell_type": "code",
   "execution_count": 241,
   "id": "800aac9f",
   "metadata": {},
   "outputs": [
    {
     "data": {
      "text/plain": [
       "availability_365\n",
       "0     0\n",
       "1    23\n",
       "2    18\n",
       "3    30\n",
       "4    17\n",
       "5    29\n",
       "6    48\n",
       "7    39\n",
       "8    33\n",
       "9    34\n",
       "Name: price, dtype: int64"
      ]
     },
     "execution_count": 241,
     "metadata": {},
     "output_type": "execute_result"
    }
   ],
   "source": [
    "lowest = sorteddf.groupby('availability_365')['price'].min()\n",
    "lowest.head(10)  ##minimum price by availability"
   ]
  },
  {
   "cell_type": "markdown",
   "id": "87ca3e9e",
   "metadata": {},
   "source": [
    "### Where are they available?"
   ]
  },
  {
   "cell_type": "code",
   "execution_count": null,
   "id": "49bee857",
   "metadata": {},
   "outputs": [],
   "source": []
  },
  {
   "cell_type": "markdown",
   "id": "98023f3a",
   "metadata": {},
   "source": [
    "### And what property types exist with most frequent prices? "
   ]
  },
  {
   "cell_type": "code",
   "execution_count": null,
   "id": "c506ef13",
   "metadata": {},
   "outputs": [],
   "source": []
  },
  {
   "cell_type": "markdown",
   "id": "779af29f",
   "metadata": {},
   "source": [
    "### What property types are available across the country?"
   ]
  },
  {
   "cell_type": "code",
   "execution_count": null,
   "id": "0e7f0b88",
   "metadata": {},
   "outputs": [],
   "source": []
  },
  {
   "cell_type": "markdown",
   "id": "98348271",
   "metadata": {},
   "source": [
    "### What rooms are available across the country?"
   ]
  },
  {
   "cell_type": "code",
   "execution_count": null,
   "id": "cf2f6896",
   "metadata": {},
   "outputs": [],
   "source": []
  },
  {
   "cell_type": "markdown",
   "id": "167e9586",
   "metadata": {},
   "source": [
    "### What are the most frequent locations?"
   ]
  },
  {
   "cell_type": "code",
   "execution_count": null,
   "id": "4197e4f4",
   "metadata": {},
   "outputs": [],
   "source": []
  },
  {
   "cell_type": "markdown",
   "id": "372c2824",
   "metadata": {},
   "source": [
    "#### This helps decision makers learn about:\n",
    "#### 1) The occurrence of prices\n",
    "#### 2) How to price newly introduced rooms\n",
    "#### 3) How to make newly priced rooms and property types more available\n",
    "#### 4) They should also learn about the average prices of property types and rooms in different locations\n",
    "#### 5) This is also helpful to understand analytics better and how to offer better deals to potential cutomers\n",
    "#### 6) How to save company resources and costs by knowing which locations and prices to make more available "
   ]
  }
 ],
 "metadata": {
  "kernelspec": {
   "display_name": "Python 3 (ipykernel)",
   "language": "python",
   "name": "python3"
  },
  "language_info": {
   "codemirror_mode": {
    "name": "ipython",
    "version": 3
   },
   "file_extension": ".py",
   "mimetype": "text/x-python",
   "name": "python",
   "nbconvert_exporter": "python",
   "pygments_lexer": "ipython3",
   "version": "3.9.16"
  }
 },
 "nbformat": 4,
 "nbformat_minor": 5
}
